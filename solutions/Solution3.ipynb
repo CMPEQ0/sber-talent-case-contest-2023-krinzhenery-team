{
 "cells": [
  {
   "cell_type": "markdown",
   "id": "b590fb88-0c0d-44d8-9c1f-b786d99b796d",
   "metadata": {},
   "source": [
    "# Решение #3 - Ансамбль"
   ]
  },
  {
   "cell_type": "markdown",
   "id": "c30eb397-6bde-4b28-9d89-9cdced36af4d",
   "metadata": {},
   "source": [
    "### Импортирование библиотек и загрузка датасета"
   ]
  },
  {
   "cell_type": "code",
   "execution_count": 1,
   "id": "64f707b2-bf22-4cc4-9e92-095517072343",
   "metadata": {},
   "outputs": [],
   "source": [
    "from src import *\n",
    "import pandas as pd\n",
    "from tqdm.auto import tqdm\n",
    "from ipywidgets import FloatProgress\n",
    "\n",
    "df = pd.read_json('./../data/sample.json')"
   ]
  },
  {
   "cell_type": "markdown",
   "id": "76edfe7d-c69b-4d3d-8a86-1264a7c67650",
   "metadata": {},
   "source": [
    "### Структура датасета"
   ]
  },
  {
   "cell_type": "code",
   "execution_count": 2,
   "id": "38b76066-364d-4949-b79d-cc0f3a3f62b0",
   "metadata": {},
   "outputs": [
    {
     "data": {
      "text/html": [
       "<div>\n",
       "<style scoped>\n",
       "    .dataframe tbody tr th:only-of-type {\n",
       "        vertical-align: middle;\n",
       "    }\n",
       "\n",
       "    .dataframe tbody tr th {\n",
       "        vertical-align: top;\n",
       "    }\n",
       "\n",
       "    .dataframe thead th {\n",
       "        text-align: right;\n",
       "    }\n",
       "</style>\n",
       "<table border=\"1\" class=\"dataframe\">\n",
       "  <thead>\n",
       "    <tr style=\"text-align: right;\">\n",
       "      <th></th>\n",
       "      <th>id</th>\n",
       "      <th>text</th>\n",
       "    </tr>\n",
       "  </thead>\n",
       "  <tbody>\n",
       "    <tr>\n",
       "      <th>0</th>\n",
       "      <td>1</td>\n",
       "      <td>Ты нашёл их или нет?</td>\n",
       "    </tr>\n",
       "    <tr>\n",
       "      <th>1</th>\n",
       "      <td>2</td>\n",
       "      <td>Почему она так со мной поступает?</td>\n",
       "    </tr>\n",
       "    <tr>\n",
       "      <th>2</th>\n",
       "      <td>3</td>\n",
       "      <td>Никто туда больше не ходит.</td>\n",
       "    </tr>\n",
       "    <tr>\n",
       "      <th>3</th>\n",
       "      <td>4</td>\n",
       "      <td>У него с собой не было тогда денег.</td>\n",
       "    </tr>\n",
       "    <tr>\n",
       "      <th>4</th>\n",
       "      <td>5</td>\n",
       "      <td>Почему они с нами так поступают?</td>\n",
       "    </tr>\n",
       "  </tbody>\n",
       "</table>\n",
       "</div>"
      ],
      "text/plain": [
       "   id                                 text\n",
       "0   1                 Ты нашёл их или нет?\n",
       "1   2    Почему она так со мной поступает?\n",
       "2   3          Никто туда больше не ходит.\n",
       "3   4  У него с собой не было тогда денег.\n",
       "4   5     Почему они с нами так поступают?"
      ]
     },
     "execution_count": 2,
     "metadata": {},
     "output_type": "execute_result"
    }
   ],
   "source": [
    "df.head()"
   ]
  },
  {
   "cell_type": "markdown",
   "id": "9d44ae3d-d5ea-4dc0-b59e-a643f77af358",
   "metadata": {},
   "source": [
    "### Предобработка строк"
   ]
  },
  {
   "cell_type": "code",
   "execution_count": 3,
   "id": "f71e08a5-a333-430a-a248-28e5ed38b473",
   "metadata": {},
   "outputs": [],
   "source": [
    "df['text_preprocess'] = df['text'].apply(load_dataset.preprocess_text)"
   ]
  },
  {
   "cell_type": "code",
   "execution_count": 4,
   "id": "a18f76d2-b99b-4bc4-bb09-363c437e0e39",
   "metadata": {},
   "outputs": [
    {
     "data": {
      "text/html": [
       "<div>\n",
       "<style scoped>\n",
       "    .dataframe tbody tr th:only-of-type {\n",
       "        vertical-align: middle;\n",
       "    }\n",
       "\n",
       "    .dataframe tbody tr th {\n",
       "        vertical-align: top;\n",
       "    }\n",
       "\n",
       "    .dataframe thead th {\n",
       "        text-align: right;\n",
       "    }\n",
       "</style>\n",
       "<table border=\"1\" class=\"dataframe\">\n",
       "  <thead>\n",
       "    <tr style=\"text-align: right;\">\n",
       "      <th></th>\n",
       "      <th>id</th>\n",
       "      <th>text</th>\n",
       "      <th>text_preprocess</th>\n",
       "    </tr>\n",
       "  </thead>\n",
       "  <tbody>\n",
       "    <tr>\n",
       "      <th>0</th>\n",
       "      <td>1</td>\n",
       "      <td>Ты нашёл их или нет?</td>\n",
       "      <td>ты нашел их или нет</td>\n",
       "    </tr>\n",
       "    <tr>\n",
       "      <th>1</th>\n",
       "      <td>2</td>\n",
       "      <td>Почему она так со мной поступает?</td>\n",
       "      <td>почему она так со мной поступает</td>\n",
       "    </tr>\n",
       "    <tr>\n",
       "      <th>2</th>\n",
       "      <td>3</td>\n",
       "      <td>Никто туда больше не ходит.</td>\n",
       "      <td>никто туда больше не ходит</td>\n",
       "    </tr>\n",
       "    <tr>\n",
       "      <th>3</th>\n",
       "      <td>4</td>\n",
       "      <td>У него с собой не было тогда денег.</td>\n",
       "      <td>у него с собой не было тогда денег</td>\n",
       "    </tr>\n",
       "    <tr>\n",
       "      <th>4</th>\n",
       "      <td>5</td>\n",
       "      <td>Почему они с нами так поступают?</td>\n",
       "      <td>почему они с нами так поступают</td>\n",
       "    </tr>\n",
       "  </tbody>\n",
       "</table>\n",
       "</div>"
      ],
      "text/plain": [
       "   id                                 text                     text_preprocess\n",
       "0   1                 Ты нашёл их или нет?                 ты нашел их или нет\n",
       "1   2    Почему она так со мной поступает?    почему она так со мной поступает\n",
       "2   3          Никто туда больше не ходит.          никто туда больше не ходит\n",
       "3   4  У него с собой не было тогда денег.  у него с собой не было тогда денег\n",
       "4   5     Почему они с нами так поступают?     почему они с нами так поступают"
      ]
     },
     "execution_count": 4,
     "metadata": {},
     "output_type": "execute_result"
    }
   ],
   "source": [
    "df.head()"
   ]
  },
  {
   "cell_type": "markdown",
   "id": "06e61051-dd8a-4f3f-a857-50e1aa7edf43",
   "metadata": {
    "jp-MarkdownHeadingCollapsed": true
   },
   "source": [
    "### Решение основано на методе голосования, где каждый алгоритм голосует за один из ответов и каждый алгоритм имеет свой вес\n",
    "Применяются следующие алгоритмы:\n",
    "* Косинусное сходство с векторзацией подсчетом\n",
    "* Косинусное сходство с векторизацией tf-idf\n",
    "* Расстояние Левенштейна\n",
    "* Расстояние Дамерау-Левенштейна\n",
    "* Манхэттонское расстояние\n",
    "* Евклидово расстояние\n",
    "* Алгоритм выравнивания последовательности в сочетании с расстоянием Хэмминга\n",
    "* Расстояние Хэмминга \n",
    "* Расстояние Хэллингера\n",
    "* Индекс Жаккарда\n",
    "* Расстояние Джаро-Винклера\n",
    "* Дивергенция Дженсена-Шеннона\n",
    "* Расстояние Карловского\n",
    "* Алгоритм Майерса\n",
    "* N-граммы\n",
    "* N-граммы в сочетании с индексом Тверского\n",
    "* Коэффициент Сёренсена\n",
    "* Сравнение множеств слов\n",
    "* Сравнение наборов местоимений"
   ]
  },
  {
   "cell_type": "markdown",
   "id": "2e0fc4fb-598d-4792-bd95-93c0c038fee1",
   "metadata": {},
   "source": [
    "### Вспомогательный класс, который хранит указатель на функцию, пороговое значение и вес функции"
   ]
  },
  {
   "cell_type": "code",
   "execution_count": 5,
   "id": "b28ba89a-90db-4cb8-a934-7a76373b4195",
   "metadata": {},
   "outputs": [],
   "source": [
    "class Function:\n",
    "    def __init__(self,function,threshold:float,weight:int):\n",
    "        self.function = function\n",
    "        self.threshold = threshold\n",
    "        self.weight = weight\n",
    "    \n",
    "    def vote(self,left,right):\n",
    "        if self.threshold == 0:\n",
    "            if self.function(left,right):\n",
    "                return self.weight\n",
    "            else:\n",
    "                return -self.weight\n",
    "        else:\n",
    "            if self.function(left,right,self.threshold):\n",
    "                return self.weight\n",
    "            else:\n",
    "                return -self.weight"
   ]
  },
  {
   "cell_type": "code",
   "execution_count": null,
   "id": "1424b23a-88e1-4de9-b47d-12bcb77fe591",
   "metadata": {},
   "outputs": [
    {
     "data": {
      "application/vnd.jupyter.widget-view+json": {
       "model_id": "d2ae5e3fa333457791e30040e732376f",
       "version_major": 2,
       "version_minor": 0
      },
      "text/plain": [
       "  0%|          | 0/412 [00:00<?, ?it/s]"
      ]
     },
     "metadata": {},
     "output_type": "display_data"
    }
   ],
   "source": [
    "LOW = 1\n",
    "MEDIUM = 2\n",
    "HIGH = 3\n",
    "EXTREME = 5\n",
    "\n",
    "threshold = 0.85\n",
    "\n",
    "functions = [Function(cosine_count.is_rewrite_cosine_count,threshold,MEDIUM),\n",
    "            Function(cosine_tfidf.is_rewrite_cosine_tfidf,threshold,MEDIUM),\n",
    "            Function(lev_dist.is_rewrite_levenshtein_distance,threshold,LOW),\n",
    "            Function(dam_lev_dist.is_rewrite_damerau_levenshtein_distance,threshold,LOW),\n",
    "            Function(distance_L1.is_rewrite_distance_L1,threshold,LOW),\n",
    "            Function(distance_L2.is_rewrite_distance_L2,threshold,LOW),\n",
    "            Function(hamming_distance_and_sequence_alignment_composition.is_rewrite_hamming_distance_normalized,threshold,LOW),\n",
    "            Function(hamming_distance_custom.is_rewrite_hamming_distance_custom,threshold,LOW),\n",
    "            Function(hellinger.is_rewrite_hellinger_distance,threshold,LOW),\n",
    "            Function(jaccard.is_rewrite_Jaccard,threshold,MEDIUM),\n",
    "            Function(jaro_winkler.is_rewrite_jaro_winkler,threshold,MEDIUM),\n",
    "            Function(JSD.is_rewrite_JSD,threshold,MEDIUM),\n",
    "            Function(karlovskiy_distance.is_rewrite_karlovskiy_distance,threshold,HIGH),\n",
    "            Function(myers.is_rewrite_myers,threshold,LOW),\n",
    "            Function(ngrams.is_rewrite_ngram,threshold,HIGH),\n",
    "            Function(ngrams.is_rewrite_tverskiy_ngram,threshold,HIGH),\n",
    "            Function(sorensen.is_rewrite_Sorensen,threshold,MEDIUM),\n",
    "            Function(word_set.is_rewrite_word_set,threshold,MEDIUM),\n",
    "            Function(pronouns.check_pronoun_correspondence,0,EXTREME)]\n",
    "\n",
    "pd.options.mode.chained_assignment = None # Убираем лишние предупреждения\n",
    "df['used'] = [False] * len(df)\n",
    "groups = []\n",
    "\n",
    "for i in tqdm(range(len(df))):\n",
    "    if df['used'][i]:  # Проверка метки использования строки\n",
    "        continue\n",
    "    groups.append([])\n",
    "    groups[-1].append(df['text'][i])\n",
    "    df['used'][i] = True\n",
    "    \n",
    "    for j in range(i+1,len(df)):\n",
    "        if df['used'][j]: # Проверка метки использования строки\n",
    "            continue\n",
    "            \n",
    "        votes = sum([func.vote(df['text_preprocess'][i],df['text_preprocess'][j]) for func in functions])\n",
    "\n",
    "        if(votes > 0):\n",
    "            groups[-1].append(df['text'][j])\n",
    "            df['used'][j] = True\n",
    "\n",
    "    if len(groups[-1]) == 1: # Если строка не имеет рерайта, то группа не формируется\n",
    "        df['used'][i] = False \n",
    "        groups = groups[:-1]\n",
    "\n",
    "\n",
    "# Добавляем уникальные строки (не имеющие рерайт)\n",
    "groups = groups + [[str] for str in list(df[df['used']==False]['text'])]\n",
    "\n",
    "df = df.drop('used',axis=1)"
   ]
  },
  {
   "cell_type": "code",
   "execution_count": null,
   "id": "fea22c4f-6528-44e7-8618-a0cf9c7ae993",
   "metadata": {},
   "outputs": [],
   "source": [
    "assert(sum([len(group) for group in groups]) == len(df))"
   ]
  },
  {
   "cell_type": "markdown",
   "id": "c462490d-ea19-4e4e-9b96-ec12aff16f20",
   "metadata": {},
   "source": [
    "### Количество найденных групп"
   ]
  },
  {
   "cell_type": "code",
   "execution_count": null,
   "id": "f50c19d4-341e-4284-b580-24dc9bc50927",
   "metadata": {},
   "outputs": [],
   "source": [
    "len(groups)"
   ]
  },
  {
   "cell_type": "markdown",
   "id": "0eb4ac7d-9569-4419-aa9b-964a14e70483",
   "metadata": {},
   "source": [
    "### Все найденные группы"
   ]
  },
  {
   "cell_type": "code",
   "execution_count": null,
   "id": "485f5821-fe43-4441-b8b3-11ab4572af0f",
   "metadata": {},
   "outputs": [],
   "source": [
    "groups"
   ]
  },
  {
   "cell_type": "markdown",
   "id": "e4af239f-3ca2-4cf4-bcfb-dbecbb17bfca",
   "metadata": {},
   "source": [
    "### Строки, которые имеют более 1 рерайта"
   ]
  },
  {
   "cell_type": "code",
   "execution_count": null,
   "id": "450bd1ee-c19e-4ddc-b421-77b1877a6bb0",
   "metadata": {},
   "outputs": [],
   "source": [
    "groups3 = [group for group in groups if len(group) > 2]"
   ]
  },
  {
   "cell_type": "code",
   "execution_count": null,
   "id": "283817b2-50f4-44cb-bcfc-c365927e9276",
   "metadata": {},
   "outputs": [],
   "source": [
    "len(groups3)"
   ]
  },
  {
   "cell_type": "code",
   "execution_count": null,
   "id": "59568ba6-a05a-4c5d-b3b1-85045ab38322",
   "metadata": {},
   "outputs": [],
   "source": [
    "groups3"
   ]
  },
  {
   "cell_type": "markdown",
   "id": "2ef8382c-f1ba-4346-8c68-b45319f8d667",
   "metadata": {},
   "source": [
    "### Строки, которые имеют ровно 1 рерайт"
   ]
  },
  {
   "cell_type": "code",
   "execution_count": null,
   "id": "27c605e5-fd5a-484e-a641-8572f92c2e27",
   "metadata": {},
   "outputs": [],
   "source": [
    "groups2 = [group for group in groups if len(group) == 2]"
   ]
  },
  {
   "cell_type": "code",
   "execution_count": null,
   "id": "31ec4a90-fdff-452b-a6d3-6eb2695106dd",
   "metadata": {},
   "outputs": [],
   "source": [
    "len(groups2)"
   ]
  },
  {
   "cell_type": "code",
   "execution_count": null,
   "id": "f694517e-4c9d-495c-ad44-2b541c1ee54a",
   "metadata": {},
   "outputs": [],
   "source": [
    "groups2"
   ]
  },
  {
   "cell_type": "markdown",
   "id": "32797c94-baf1-4743-8e5b-ea802cb8f606",
   "metadata": {},
   "source": [
    "### Строки, которые не имеют рерайта"
   ]
  },
  {
   "cell_type": "code",
   "execution_count": null,
   "id": "356e2853-1233-4325-a938-6981c53d2296",
   "metadata": {},
   "outputs": [],
   "source": [
    "groups1 = [group for group in groups if len(group) == 1]"
   ]
  },
  {
   "cell_type": "code",
   "execution_count": null,
   "id": "b62ec47b-b09e-48a9-bda9-41fecc497f41",
   "metadata": {},
   "outputs": [],
   "source": [
    "len(groups1)"
   ]
  },
  {
   "cell_type": "code",
   "execution_count": null,
   "id": "8a2396cb-85db-448a-815e-1476239cf49f",
   "metadata": {},
   "outputs": [],
   "source": [
    "groups1"
   ]
  },
  {
   "cell_type": "markdown",
   "id": "4e662a54-48bc-4448-aea3-0048093897bd",
   "metadata": {},
   "source": [
    "### Сохранение результата"
   ]
  },
  {
   "cell_type": "code",
   "execution_count": null,
   "id": "58be90ad-e1e7-48a0-bb0c-198bb879d0dc",
   "metadata": {},
   "outputs": [],
   "source": [
    "save_groups.save_groups(groups,\"../output/solution3-result.json\")"
   ]
  }
 ],
 "metadata": {
  "kernelspec": {
   "display_name": "Python 3 (ipykernel)",
   "language": "python",
   "name": "python3"
  },
  "language_info": {
   "codemirror_mode": {
    "name": "ipython",
    "version": 3
   },
   "file_extension": ".py",
   "mimetype": "text/x-python",
   "name": "python",
   "nbconvert_exporter": "python",
   "pygments_lexer": "ipython3",
   "version": "3.11.5"
  },
  "varInspector": {
   "cols": {
    "lenName": 16,
    "lenType": 16,
    "lenVar": 40
   },
   "kernels_config": {
    "python": {
     "delete_cmd_postfix": "",
     "delete_cmd_prefix": "del ",
     "library": "var_list.py",
     "varRefreshCmd": "print(var_dic_list())"
    },
    "r": {
     "delete_cmd_postfix": ") ",
     "delete_cmd_prefix": "rm(",
     "library": "var_list.r",
     "varRefreshCmd": "cat(var_dic_list()) "
    }
   },
   "types_to_exclude": [
    "module",
    "function",
    "builtin_function_or_method",
    "instance",
    "_Feature"
   ],
   "window_display": false
  }
 },
 "nbformat": 4,
 "nbformat_minor": 5
}
