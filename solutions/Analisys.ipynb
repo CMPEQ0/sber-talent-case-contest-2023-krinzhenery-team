{
 "cells": [
  {
   "cell_type": "markdown",
   "id": "3e4d6aaf-3918-4ef0-8ba3-7544d3b87914",
   "metadata": {},
   "source": [
    "# Анализ датасета"
   ]
  },
  {
   "cell_type": "markdown",
   "id": "8372d2f7-0b6d-468f-8574-3d66e0246f98",
   "metadata": {},
   "source": [
    "#### Загрузка датасета"
   ]
  },
  {
   "cell_type": "code",
   "execution_count": 1,
   "id": "c46d24ed-7ec1-4631-9cb0-f5d7db7afbd2",
   "metadata": {},
   "outputs": [],
   "source": [
    "import numpy as np\n",
    "import pandas as pd\n",
    "import matplotlib.pyplot as plt\n",
    "import seaborn as sns\n",
    "from src import *\n",
    "\n",
    "df = pd.read_json('./../data/sample.json')\n",
    "df['text'] = df['text'].apply(load_dataset.preprocess_text)\n",
    "strings = list(df['text'])"
   ]
  },
  {
   "cell_type": "markdown",
   "id": "235411ea-af2b-4986-b842-39e609881fb3",
   "metadata": {},
   "source": [
    "## Найденные закономерности"
   ]
  },
  {
   "cell_type": "markdown",
   "id": "e2b5924f-6681-47b9-a236-9a38e52cb818",
   "metadata": {},
   "source": [
    "### Случай №1"
   ]
  },
  {
   "cell_type": "markdown",
   "id": "c0884528-eab2-47e7-85ea-06f25d25a108",
   "metadata": {},
   "source": [
    "#### В датасете присутствуют строки, в которых изменен порядок слов, при этом смысл остается прежним."
   ]
  },
  {
   "cell_type": "code",
   "execution_count": 2,
   "id": "4f9207bf-7a92-4f1c-a317-e618ec01aa92",
   "metadata": {},
   "outputs": [
    {
     "data": {
      "text/plain": [
       "['том - один из лучших моих друзей', 'том - один из моих лучших друзей']"
      ]
     },
     "execution_count": 2,
     "metadata": {},
     "output_type": "execute_result"
    }
   ],
   "source": [
    "sorted([str for str in strings if str.find('том') != -1 and str.find('друз')!=-1])"
   ]
  },
  {
   "cell_type": "code",
   "execution_count": 3,
   "id": "8d447822-f2f1-42a9-9d62-d421852b4669",
   "metadata": {},
   "outputs": [
    {
     "data": {
      "text/plain": [
       "['я больше не могу ждать', 'я не могу больше ждать']"
      ]
     },
     "execution_count": 3,
     "metadata": {},
     "output_type": "execute_result"
    }
   ],
   "source": [
    "sorted([str for str in strings if str.find('ждать') != -1 and str.find('я')!=-1])"
   ]
  },
  {
   "cell_type": "markdown",
   "id": "b6314cba-4d6d-41c0-bfb3-04b656598c32",
   "metadata": {},
   "source": [
    "#### Спорный случай (зависит от того, на кого указывает местоимение \"они\", но строки могут иметь один смысл, который зависит от контекста)"
   ]
  },
  {
   "cell_type": "code",
   "execution_count": 4,
   "id": "f5bd1792-ff0a-4877-9a64-7bc9b1e96b43",
   "metadata": {},
   "outputs": [
    {
     "data": {
      "text/plain": [
       "['все говорят что они невиновны', 'все они говорят что невиновны']"
      ]
     },
     "execution_count": 4,
     "metadata": {},
     "output_type": "execute_result"
    }
   ],
   "source": [
    "sorted([str for str in strings if str.find('невиновны') != -1 and str.find('говорят')!=-1])"
   ]
  },
  {
   "cell_type": "markdown",
   "id": "013a38a5-cb35-4d65-9201-c778b149181e",
   "metadata": {},
   "source": [
    "### Случай №2"
   ]
  },
  {
   "cell_type": "markdown",
   "id": "d4e30895-d6e9-4e26-8964-3b0150e09fbb",
   "metadata": {},
   "source": [
    "#### В датасете имеются строки, в которых было добавлено (удалено) слово, при этом смысл остается прежним."
   ]
  },
  {
   "cell_type": "code",
   "execution_count": 5,
   "id": "1d77eb40-8e92-40dc-ad68-0bfd7dd82df2",
   "metadata": {},
   "outputs": [
    {
     "data": {
      "text/plain": [
       "['том не живет в бостоне', 'том сейчас не живет в бостоне']"
      ]
     },
     "execution_count": 5,
     "metadata": {},
     "output_type": "execute_result"
    }
   ],
   "source": [
    "sorted([str for str in strings if str.find('том') != -1 and str.find('живет')!=-1])"
   ]
  },
  {
   "cell_type": "code",
   "execution_count": 6,
   "id": "e379258c-12d3-497f-be98-a815c649beda",
   "metadata": {},
   "outputs": [
    {
     "data": {
      "text/plain": [
       "['мост очень длинный и высокий', 'мост очень длинный и очень высокий']"
      ]
     },
     "execution_count": 6,
     "metadata": {},
     "output_type": "execute_result"
    }
   ],
   "source": [
    "sorted([str for str in strings if str.find('мост') != -1 and str.find('очень')!=-1])"
   ]
  },
  {
   "cell_type": "markdown",
   "id": "3261f5b3-c169-465c-885f-8a00910a7534",
   "metadata": {},
   "source": [
    "### Случай №3"
   ]
  },
  {
   "cell_type": "markdown",
   "id": "ef26816b-1696-4b36-8c6f-09e605855b06",
   "metadata": {},
   "source": [
    "#### В датасете есть строки, которые имеют опечатку только в одном слове, при этом смысл остается прежним."
   ]
  },
  {
   "cell_type": "code",
   "execution_count": 7,
   "id": "73c5e533-51d9-4be6-996c-710e2632d96e",
   "metadata": {
    "scrolled": true
   },
   "outputs": [
    {
     "data": {
      "text/plain": [
       "['том и мэри объявили сегодня о своей пбмолвке',\n",
       " 'том и мэри объявили сегодня о своей помолвке']"
      ]
     },
     "execution_count": 7,
     "metadata": {},
     "output_type": "execute_result"
    }
   ],
   "source": [
    "sorted([str for str in strings if str.find('том') != -1 and str.find('объявили')!=-1])"
   ]
  },
  {
   "cell_type": "code",
   "execution_count": 8,
   "id": "0fec18c9-d166-4e60-8dc1-40b4f409afa9",
   "metadata": {},
   "outputs": [
    {
     "data": {
      "text/plain": [
       "['какая гора самая высокая в европе', 'лакая гора самая высокая в европе']"
      ]
     },
     "execution_count": 8,
     "metadata": {},
     "output_type": "execute_result"
    }
   ],
   "source": [
    "sorted([str for str in strings if str.find('гора') != -1 and str.find('европе')!=-1])"
   ]
  },
  {
   "cell_type": "markdown",
   "id": "104d33f0-0c96-4105-970e-479fcd6019cd",
   "metadata": {},
   "source": [
    "### Случай №4"
   ]
  },
  {
   "cell_type": "markdown",
   "id": "1d203ffd-44ca-4519-a966-63db7850e04c",
   "metadata": {},
   "source": [
    "#### В датасете присутствуют строки, в которых часть строки была заменена на синонимичную конструкцию, при этом смысл остается прежним."
   ]
  },
  {
   "cell_type": "code",
   "execution_count": 9,
   "id": "001d600b-73ad-4525-bcfe-4c2908fc458a",
   "metadata": {},
   "outputs": [
    {
     "data": {
      "text/plain": [
       "['многие птицы на зиму улетают на юг', 'многие птицы осенью улетают на юг']"
      ]
     },
     "execution_count": 9,
     "metadata": {},
     "output_type": "execute_result"
    }
   ],
   "source": [
    "sorted([str for str in strings if str.find('птиц') != -1])"
   ]
  },
  {
   "cell_type": "markdown",
   "id": "45e85712-3e52-475d-9b1f-529eec7aa216",
   "metadata": {},
   "source": [
    "### Случай №5"
   ]
  },
  {
   "cell_type": "markdown",
   "id": "0ece77f1-57e0-4ea2-9628-eefbe6e295f9",
   "metadata": {},
   "source": [
    "#### В датасете имеется строки, в которых изменены только местоимения, но смысл уже отличается"
   ]
  },
  {
   "cell_type": "code",
   "execution_count": 10,
   "id": "b75b77c1-bf30-40bb-8ca7-604c767cb4e9",
   "metadata": {},
   "outputs": [
    {
     "data": {
      "text/plain": [
       "['почему она так с ней поступает', 'почему она так с ним поступает']"
      ]
     },
     "execution_count": 10,
     "metadata": {},
     "output_type": "execute_result"
    }
   ],
   "source": [
    "sorted([str for str in strings if str.find('почему она так с н') != -1 and str.find('поступает')!=-1])"
   ]
  },
  {
   "cell_type": "code",
   "execution_count": 11,
   "id": "85236028-6422-4a3c-a89d-54c13a4837d3",
   "metadata": {},
   "outputs": [
    {
     "data": {
      "text/plain": [
       "['я все ей рассказываю', 'я все им рассказываю']"
      ]
     },
     "execution_count": 11,
     "metadata": {},
     "output_type": "execute_result"
    }
   ],
   "source": [
    "sorted([str for str in strings if str.find('я все') != -1 and str.find('рассказ') != -1])"
   ]
  },
  {
   "cell_type": "markdown",
   "id": "6c6a6572-b146-49ee-ac70-6d5e3e8ebc34",
   "metadata": {},
   "source": [
    "### Случай №6"
   ]
  },
  {
   "cell_type": "markdown",
   "id": "3b8915ea-7d26-4443-9d62-f8e3a302a881",
   "metadata": {},
   "source": [
    "#### В датасете имеются строки, отличающиеся лишь на одно слово, при этом смысл различается"
   ]
  },
  {
   "cell_type": "code",
   "execution_count": 12,
   "id": "1196ea88-941a-45f8-8ea9-cae478bc2ca7",
   "metadata": {},
   "outputs": [
    {
     "data": {
      "text/plain": [
       "['я ничего не хочу делать', 'я ничего не хочу пить', 'я ничего не хочу читать']"
      ]
     },
     "execution_count": 12,
     "metadata": {},
     "output_type": "execute_result"
    }
   ],
   "source": [
    "sorted([str for str in strings if str.find('я ничего не хочу') != -1 and not(str.find('знать') != -1)])"
   ]
  },
  {
   "cell_type": "markdown",
   "id": "6d1de062-7784-4a88-bac1-552f812fb03b",
   "metadata": {},
   "source": [
    "### Случай №7"
   ]
  },
  {
   "cell_type": "markdown",
   "id": "28f80732-23c1-4f41-9612-4236dbb07589",
   "metadata": {},
   "source": [
    "#### В датасете присутствуют строки, не имеющие рерайтов"
   ]
  },
  {
   "cell_type": "code",
   "execution_count": 13,
   "id": "22e8f0c2-c790-4dc9-bf37-86ed2c2a1a2c",
   "metadata": {},
   "outputs": [
    {
     "data": {
      "text/plain": [
       "['где был том весь день']"
      ]
     },
     "execution_count": 13,
     "metadata": {},
     "output_type": "execute_result"
    }
   ],
   "source": [
    "sorted([str for str in strings if str.find('том') != -1 and str.find('где')!=-1])"
   ]
  },
  {
   "cell_type": "markdown",
   "id": "0e892b18-706e-4ef7-92d3-ac8eb8daa47e",
   "metadata": {},
   "source": [
    "### Случай №8"
   ]
  },
  {
   "cell_type": "markdown",
   "id": "7dfb3546-0829-4eb6-b32f-6ba16a323bca",
   "metadata": {},
   "source": [
    "#### В датасете есть строки, имеющие более 1 рерайта"
   ]
  },
  {
   "cell_type": "code",
   "execution_count": 14,
   "id": "6484c82e-3c4c-4308-ad08-4208d0c34ba3",
   "metadata": {},
   "outputs": [
    {
     "data": {
      "text/plain": [
       "['том не хочет никого видеть',\n",
       " 'том не хочет сегодня никого видеть',\n",
       " 'том сегодня не хочет никого видеть']"
      ]
     },
     "execution_count": 14,
     "metadata": {},
     "output_type": "execute_result"
    }
   ],
   "source": [
    "sorted([str for str in strings if str.find('том') != -1 and str.find('никого видеть')!=-1])"
   ]
  },
  {
   "cell_type": "markdown",
   "id": "274289bc-72ea-41e6-80cc-ad703d36633b",
   "metadata": {},
   "source": [
    "## Визуализация датасета"
   ]
  },
  {
   "cell_type": "markdown",
   "id": "7df24325-56c6-45d9-9317-b11bd0ef376b",
   "metadata": {},
   "source": [
    "### Гистограмма по количеству слов в строке"
   ]
  },
  {
   "cell_type": "code",
   "execution_count": 49,
   "id": "720490be-546a-4e9f-99b2-3b790cadaf73",
   "metadata": {},
   "outputs": [
    {
     "data": {
      "text/plain": [
       "<Figure size 600x600 with 0 Axes>"
      ]
     },
     "metadata": {},
     "output_type": "display_data"
    },
    {
     "data": {
      "image/png": "[encoded data removed]",
      "text/plain": [
       "<Figure size 500x500 with 1 Axes>"
      ]
     },
     "metadata": {},
     "output_type": "display_data"
    }
   ],
   "source": [
    "plt.figure(figsize=(3,3),dpi=200);\n",
    "data = [len(str.split(' ')) for str in strings]\n",
    "sns.displot(data);"
   ]
  },
  {
   "cell_type": "markdown",
   "id": "e1c1b373-f1c3-47c2-9652-5ede50e3e04a",
   "metadata": {},
   "source": [
    "### Кластеризация датасета методом К-средних и векторизацией подсчетом"
   ]
  },
  {
   "cell_type": "code",
   "execution_count": 16,
   "id": "8eb75a71-6480-49b9-aa07-05e1e4880c16",
   "metadata": {},
   "outputs": [
    {
     "data": {
      "image/png": "[encoded data removed]",
      "text/plain": [
       "<Figure size 2400x1600 with 1 Axes>"
      ]
     },
     "metadata": {},
     "output_type": "display_data"
    }
   ],
   "source": [
    "plt.figure(figsize=(12,8),dpi=200)\n",
    "\n",
    "# Векторизация подсчетом на основе всего датасета\n",
    "from sklearn.feature_extraction.text import CountVectorizer\n",
    "Vectorizer = CountVectorizer()\n",
    "vector = Vectorizer.fit_transform(strings)\n",
    "strings_vectorized = vector.toarray()\n",
    "\n",
    "# Метод главных компонент (необходим для преобразования из 546-мерного пространства в 2-мерное)\n",
    "from sklearn.decomposition import PCA\n",
    "pca_model = PCA(n_components=2)\n",
    "pca_model.fit(strings_vectorized)\n",
    "strings_vectorized_2n = pca_model.transform(strings_vectorized)\n",
    "\n",
    "# Кластеризация методом K-средних\n",
    "from sklearn.cluster import KMeans\n",
    "kmeans = KMeans(n_clusters=4,n_init=\"auto\").fit(strings_vectorized_2n)\n",
    "\n",
    "# Визуализация\n",
    "x = strings_vectorized_2n[:,0]\n",
    "y = strings_vectorized_2n[:,1]\n",
    "plt.scatter(x,y,c=kmeans.labels_)\n",
    "plt.title(\"Кластеризация датасета\");"
   ]
  },
  {
   "cell_type": "markdown",
   "id": "95aa8f6d-2cb4-4dd3-9561-10cfdb8178d4",
   "metadata": {},
   "source": [
    "#### Строки, сгруппированные по кластерам"
   ]
  },
  {
   "cell_type": "code",
   "execution_count": 50,
   "id": "a0575fdd-2254-4b01-83b8-bdb03ba2580b",
   "metadata": {},
   "outputs": [],
   "source": [
    "clusters = {}\n",
    "for i in range(len(kmeans.labels_)):\n",
    "    if kmeans.labels_[i] not in clusters:\n",
    "        clusters[kmeans.labels_[i]] = []\n",
    "    clusters[kmeans.labels_[i]].append(strings[i])"
   ]
  },
  {
   "cell_type": "code",
   "execution_count": 51,
   "id": "7e6ec901-9225-45b6-80d5-a36efd1ffeb3",
   "metadata": {},
   "outputs": [
    {
     "name": "stdout",
     "output_type": "stream",
     "text": [
      "['возьми его ключи от машины', 'возьми ключи от его машины', 'вот как оно все обернулось', 'все говорят что они невиновны', 'все они говорят что невиновны', 'говорят в горах погода быстро меняется', 'говорят погода в горах быстро меняется', 'думаю я мог бы и один это сделать', 'если у тебя будет время завтра приходи ко мне', 'зачем тому была нужна отвертка', 'здесь есть поблизости банкомат', 'здесь поблизости есть банкомат', 'иди сюда я тебе еще кое-что покажу', 'извините я хотел бы ьто примерить', 'извините я хотел бы это примерить', 'им были нужны деньги', 'им нужны были деньги', 'интерфейс очень интуитивно понятен', 'как бы ты посоветовал мне поступить', 'какая гора самая высокая в европе', 'какая гора самая высокая в мире', 'какое это имеет отношение к школе', 'камое это имеет отношение к школе', 'кен был вчера дома', 'кен вчера был дома', 'когда я его видел в последний раз', 'кто мне может это объяснить', 'кто может мне это объяснить', 'кто тебе это все сказал', 'кто тебе это все сказал', 'кто-то это уже сделал', 'лакая гора самая высокая в европе', 'мне больше нечего переводить', 'мне будут нужны подробности', 'мне было нечего скрывать', 'мне нечего больше переводить', 'мне нечего было скрывать', 'мне нужны будут подробности', 'мне придется это еще раз обдумать', 'мне придется это ещм раз обдумать', 'мне пришлось все делать самому', 'мне пришлось делать все самому', 'многие птицы на зиму улетают на юг', 'многие птицы осенью улетают на юг', 'можешь меня высадить у библиотеки', 'мост очень длинный и высокий', 'мост очень длинный и очень высокий', 'мы будем делать все по-своему', 'мы должны всем им помочь', 'мы их только что нашли', 'мы много времени провгдим вместе', 'мы много времени проводим вместе', 'мы сегодня поговорим с томом', 'мы теряем здесь время', 'мы только что их нашли', 'на печи старая кошка возится со своими котятами', 'надеюсь вы все понимаете', 'надо было позвонить и заранее забронировать столик', 'настоящий друг бы мне помог', 'настоящий друг мне бы помог', 'он был тогда в америке', 'он всю ночь стонал от сильной боли', 'он мне сделал комплимент', 'он очень этого хочет', 'он сделал мне комплимент', 'он сказал что вчера был дома', 'он тогда был в америке', 'он что-то искал в темноте', 'она была тогда маленькой девочкой', 'она все свои деньги тратит на одежду', 'она сказала что вчера была дома', 'она тратит все свои деньги на одежду', 'они их только что нашли', 'они пили белое сухое вино', 'они провели три года в тюрьме', 'они только что их нашли', 'они три года провели в тюрьме', 'они хотят чтобы кто-нибудь им помог', 'по-моему я это сделал неправильно', 'почему все на нас смотрят', 'почему всн на нас смотрят', 'почему он так со мной поступает', 'почему она с ним так поступает', 'почему она так с ней поступает', 'почему она так с ним поступает', 'почему она так со мной поступает', 'почему они с нами так поступают', 'почему они так с ним поступают', 'прибавить пять к десяти легко', 'пусть свиньи это едят', 'пусть это свиньи едят', 'рому было нечего сказать', 'с этим нужно что-то немедленно делать', 'сколько сейчас времени в париже', 'сколько тебе тогда было лет', 'сколько шебе тогда было лет', 'твои комментарии всегда мне очень помогали', 'твои комментарии мне всегда очень помогали', 'тебе это все нравится', 'тому был нужен молоток', 'тому было нечего сказать', 'тому было тогда всего тринадцать лет', 'тому некому было помочь', 'тому нужен был молоток', 'ты в футбол играешь или в регби', 'ты едешь на поезде или на машине', 'ты играешь в футбол или регби', 'ты любишь яблоки или апельсины', 'ты на поезде едешь или на машине', 'ты нашел их или нет', 'ты хотел мне рассказать о свободе', 'ты хотел рассказать мне о свободе', 'ты яблоки любишь или апельсины', 'у меня было все под контролем', 'у меня дома нет компьютера', 'у меня есть кое-что для тома', 'у меня кое-что есть для тома', 'у меня нет дома компьютера', 'у меня сегодня тоже контрольная', 'у меня сейчас есть немного денег', 'у меня тоже сегодня контрольная', 'у тебя в детстве была любимая книга', 'у тебя дома есть компьютер', 'у тебя есть дома компьютер', 'фильм мне показался интересным', 'фильм показался мне интересным', 'хирург забыл что-то внутри пациента', 'хирухг забыл что-то внутри пациента', 'хорошо что тома здесь нет', 'чего ты свой нос повсюду суешь', 'чем ты будешь заниматься завтра в это время', 'чем ты завтра будешь заниматься в это время', 'что джон пел на сцене', 'что еще ты можешь рассказать нам о томе', 'что еще я получу', 'что могло с ними случиться', 'что пел джон на сцене', 'что ты еще сделал', 'эта способность к общению нам очень помогает', 'эта способность к общению очень нам помогает', 'я беру все с собой', 'я буду там в пять', 'я бы тоже хотел услышать твой голос', 'я бы хотел быть камнем', 'я бы хотел выучить латышский', 'я бы хотел выучить латышсккй', 'я бы хотел выучить финский', 'я бы хотел куриного супа', 'я бы хотел поехать во францию', 'я бы хотел порисовать', 'я бы хотел поцеловать мэри', 'я бы хотел столик у окна', 'я был вынужден уйти', 'я вам покажу несколько фотографий', 'я видел тебя с высоким парнем', 'я все ей рассказываю', 'я все им рассказываю', 'я встретил его случайно на улице', 'я вчера неплохо провел время', 'я говорю также на испанском', 'я думаю вса время о томе', 'я думаю все время о томе', 'я думаю что здесь мы в безопасности', 'я его редко видел в школе', 'я его случайно встретил на улице', 'я ему все рассказываю', 'я ему заплатил на прошлой неделе', 'я ему сам позвоню', 'я же вас просил меня разбудить', 'я же тебя просил меня разбудить', 'я живу сейчас в бостоне', 'я завтра им позвоню', 'я заплатил ему на прошлой неделе', 'я здесь часто ем', 'я знаю что все вы трусы', 'я знаю что для тебя это важно', 'я знаю что это для тебя важно', 'я им сам позвоню', 'я их видел три недели назад', 'я написал влера письмо', 'я написал вчера письмо', 'я напишу или позвоню тебе на следующей неделе', 'я неплохо провел вчера время', 'я поймал сегодня три рыбы', 'я покажу вам несколько фотографий', 'я полностью с ними согласен', 'я просто был невнимателен', 'я просто хоку исчезнуть', 'я просто хочу исчезнуть', 'я редко видел его в школе', 'я рмогу там быть через час', 'я сделал все правильно', 'я сделал это все для тебя', 'я сейчас живу в бостоне', 'я смогу там быть через час', 'я так его любила', 'я там буду в пять', 'я там встретил тома', 'я тебе напишу или позвоню на следующей неделе', 'я тебе уже все сказал', 'я тебя видел с высоким парнем', 'я тоже завтра пойду в университет', 'я тоже хотел бы услышать твой голос', 'я только что его доделал', 'я только что его исправил', 'я только что это сделал', 'я хотел бы быть камнем', 'я хотел бы выучить финский', 'я хотел бы куриного супа', 'я хотел бы поехать во францию', 'я хотел бы порисовать', 'я хотел бы сам разбудить их', 'я хотел бы столик у окна', 'я хотел бы учиться в бостоне', 'я хочу сделать что-то со своей жизною', 'я хочу сделать что-то со своей жизнью', 'я хочу что-нибудь сделать для тома']\n"
     ]
    }
   ],
   "source": [
    "print(sorted(clusters[0]))"
   ]
  },
  {
   "cell_type": "code",
   "execution_count": 52,
   "id": "a0359827-e707-4985-9374-dedc14e7e005",
   "metadata": {},
   "outputs": [
    {
     "name": "stdout",
     "output_type": "stream",
     "text": [
      "['больше мы для него ничего не можем сделать', 'вчера был просто не мой день', 'вчера просто был не мой день', 'здесь ничего никогда не происходит', 'математик такого бы не сказал', 'мне было не с кем поговорить', 'мне никогда не нужно было столько денег', 'мне сегодня не нужно никуда идти', 'мы больше не хотим ждать', 'мы были не готовы', 'мы их никогда не найдем', 'мы не были готовы', 'мы не были так заняты', 'мы не можем ничего сделать', 'мы не можем прожить ни дня без воды', 'мы ни дня не можем прожить без воды', 'мы ничего не можем сделать', 'мэри была не готова', 'мэри говорит что ничего не будет делать', 'мэри не была готова', 'не думаю что можно что-то сделать', 'не слышно было ни звука', 'никто больше туда не ходит', 'никто не знает что на самом деле происходит', 'никто не знает чуо на самом деле происходит', 'никто ничем никому не обязан', 'никто туда больше не ходит', 'он больше не может ждать', 'он больше не может идти', 'он был не готов', 'он даже меня не замечает', 'он не был готов', 'он не может больше идти', 'он не сказал мне ни слова', 'он не сказал мно ни слова', 'он никогда мне не помогает', 'она была не готова', 'она не была готова', 'она никогда нам ничего не рассказывает', 'они были не готовы', 'они мои не настоящие родители', 'они не были готовы', 'они не мои настоящие родители', 'они никогда меня не слушают', 'почему никто нам не помогает', 'почему ты просто не можешь позвонить им', 'странно что нас никто не знает', 'странно что никто нас не знает', 'тем ничего нам не платит', 'тома здесь не будет до половины третьего', 'тома не будет здесь до половины третьего', 'тому было больше не к кому обратиться', 'тому было не с кем играть', 'тому это тоже не нравится', 'ты не будеоь один', 'ты не будешь один', 'у него с собой не было тогда денег', 'у него тогда не было с собой денег', 'этой мечте было не суждено осуществиться', 'я больше его не увижу', 'я больше не могу доверять тому', 'я больше не могу ждать', 'я больше не хочу с тобой играть', 'я больше никогда не увижу тома', 'я был не пристегнут', 'я его больше не увижу', 'я езжу в школу не на автобусе', 'я еще этого не сделал', 'я живу не в финляндии', 'я жить не могу без тома', 'я здесь никого не знаю', 'я и сам уже не рад', 'я их сегодня не видел', 'я их тоже не могу найти', 'я кричу но никто меня не слышит', 'я не был сегодня занят', 'я не езжу в школу на автобусе', 'я не живу в бостоне', 'я не живу в финляндии', 'я не могу больше ждать', 'я не могу в этом году поехать за границу', 'я не могу жить без тома', 'я не могу ничего найти', 'я не могу поехать в этом году за границу', 'я не могу сейчас говорить', 'я не пытался никого убить', 'я не хотел ввести никого в заблуждение', 'я не хочу больше на вас работать', 'я не хочу ничего пить', 'я не хочу ничего читать', 'я не хочу с тобой больше играть', 'я никогда больше не увижу тома', 'я никогда не забуду выражение его лица', 'я никогда не забуду его выражение лица', 'я никогда ни о чем тебя не просил', 'я никогда ничего от тебя не скрывал', 'я никогда от тебя ничего не скрывал', 'я никогда с этим не соглашусь', 'я никого здесь не знаю', 'я никого не хотел ввести в заблуждение', 'я ничего в последнее время не покупал', 'я ничего им не дал', 'я ничего не могу доказать', 'я ничего не могу найти', 'я ничего не хочу делать', 'я ничего не хочу об этом знать', 'я ничего не хочу пить', 'я ничего не хочу читать', 'я правда тебя не понимаю', 'я сегодня не был занят', 'я сейчас не могу говорить', 'я тебя правда не понимаю', 'я хочу чтобы нас не поймали', 'я этого еще не сделал']\n"
     ]
    }
   ],
   "source": [
    "print(sorted(clusters[1]))"
   ]
  },
  {
   "cell_type": "code",
   "execution_count": 53,
   "id": "757c1cd2-55cd-41ec-9067-bcac3e5fbb6f",
   "metadata": {},
   "outputs": [
    {
     "name": "stdout",
     "output_type": "stream",
     "text": [
      "['где был том весь день', 'том - один из лучших моих друзей', 'том - один из моих лучших друзей', 'том был мне как отец', 'том был тогда здесь', 'том все мне рассказал', 'том все мне расскатал', 'том всегда меня смешит', 'том выпил уже три чашки кофе', 'том действует мне на нервы', 'том ест яблоко или банан', 'том и мэри объявили сегодня о своей пбмолвке', 'том и мэри объявили сегодня о своей помолвке', 'том каждое утро читает газету', 'том меня всегда смешит', 'том меня сейчас хочет видеть', 'том мне действует на нервы', 'том мне сегодня это сказал', 'том очень мае помог', 'том очень мне помог', 'том очень этим гордился', 'том продал сегоднь три холодильника', 'том продал сегодня три холодильника', 'том сегодня будет здесь', 'том сегодня мне это сказал', 'том сможет это сделать без нашей помощи', 'том тебе звонил вчера вечером', 'том тогда был здесь', 'том уже выпил три чашки кофе', 'том уже должен быть дола', 'том уже должен быть дома', 'том уже это сделал', 'том хочет меня сейчас видеть', 'том этим сейчас занимается', 'том яблоко ест или банан', 'что именно сказал тебе том', 'что сделал том с деньгами', 'что сделел том с деньгами', 'что том на это скажер', 'что том на это скажет', 'я знаю что том сейчас в бостоне', 'я привык что том все время на меня орет']\n"
     ]
    }
   ],
   "source": [
    "print(sorted(clusters[2]))"
   ]
  },
  {
   "cell_type": "code",
   "execution_count": 54,
   "id": "3c66c202-c57d-4f5d-ae80-d0e10e7e2f33",
   "metadata": {
    "scrolled": true
   },
   "outputs": [
    {
     "name": "stdout",
     "output_type": "stream",
     "text": [
      "['том больше здесь не работает', 'том больше мне не доверяет', 'том больше не может здесь оставаться', 'том больше не хотел об этом думать', 'том бы никогда не согласился', 'том бы никогда не соглхсился', 'том был не единственным свидетелем', 'том был просто не готов', 'том еще нас не видел', 'том еще ничего мне не сказал', 'том здесь больше не работает', 'том нам ничего не дал', 'том не был занят', 'том не живет в бостоне', 'том не знает ничего о семье мэри', 'том не может жить без мэри', 'том не может сегодня прийти', 'том не может сейчас подойти к телефону', 'том не хотел никуда идти', 'том не хочет никого видеть', 'том не хочет сегодня никого видеть', 'том никогда больше тебя не увидит', 'том никогда мне не казывал свою фамилию', 'том никогда мне не называл свою фамилию', 'том никогда нам ничего не рассказывает', 'том никогда тебя больше не увидит', 'том никогда туда больше не вернется', 'том ничего мне не говорит', 'том ничего мне не моворит', 'том ничего нам не дал', 'том ничего нам не платит', 'том ничего не знает о семье мэри', 'том обещал никогда этого больше не делать', 'том сегодня не может прийти', 'том сегодня не хочет никого видеть', 'том сейчас не живет в бостоне', 'том сейчас не может подойти к телефону', 'том сказал что ничего не хочет есть', 'я тебя не спрашиваю том']\n"
     ]
    }
   ],
   "source": [
    "print(sorted(clusters[3]))"
   ]
  },
  {
   "cell_type": "markdown",
   "id": "7c4e8c06-8b9a-4e2b-86a2-aa17aa337d2e",
   "metadata": {},
   "source": [
    "# Проверка результатов работы базовых алгоритмов"
   ]
  },
  {
   "cell_type": "markdown",
   "id": "a89ba173-4ad0-47c1-bf9b-9c77036ef8b4",
   "metadata": {},
   "source": [
    "### Все функции, кроме функции check_pronoun_correspondence, соответствуют единому прототипу\n",
    "```python\n",
    "def name_of_algorithm(string1:str, string2:str)->float\n",
    "    ...\n",
    "    return result\n",
    "где result - значение от 0 до 1, где 0 - полное несовпадение строк, 1 - полное совпадение строк\n",
    "\n",
    "def is_rewrite_name_of_algorithm(string1:str, string2:str, threshold:float)->bool\n",
    "    return name_of_algorithm(string1,string2) > threshold\n",
    "```"
   ]
  },
  {
   "cell_type": "markdown",
   "id": "7b46cb57-5f2a-4bae-ad89-1dbcb90a9c66",
   "metadata": {},
   "source": [
    "### Функция проверки алгоритма"
   ]
  },
  {
   "cell_type": "code",
   "execution_count": 22,
   "id": "4a9a8b43-5250-459c-b976-8a5346f38c51",
   "metadata": {},
   "outputs": [],
   "source": [
    "from typing import Callable\n",
    "def check_algorithm(function:Callable[str,str]):\n",
    "    print('============ Строки, результат алгоритма которых должен стремиться к 1 ============')\n",
    "    print()\n",
    "    print('мы не можем прожить ни дня без воды',' :: ','мы ни дня не можем прожить без воды')\n",
    "    print(function('мы не можем прожить ни дня без воды','мы ни дня не можем прожить без воды'))\n",
    "    print()\n",
    "    print('том не живет в бостоне',' :: ','том сейчас не живет в бостоне')\n",
    "    print(function('том не живет в бостоне','том сейчас не живет в бостоне'))\n",
    "    print()\n",
    "    print('том и мэри объявили сегодня о своей помолвке',' :: ','том и мэри объявили сегодня о своей пбмолвке')\n",
    "    print(function('том и мэри объявили сегодня о своей помолвке','том и мэри объявили сегодня о своей пбмолвке'))\n",
    "    print()\n",
    "    print('многие птицы на зиму улетают на юг',' :: ','многие птицы осенью улетают на юг')\n",
    "    print(function('многие птицы на зиму улетают на юг','многие птицы осенью улетают на юг'))\n",
    "    print()\n",
    "    print('============ Строки, результат алгоритма которых должен стремиться к 0 ============')\n",
    "    print()\n",
    "    print('мы не можем прожить ни дня без воды',' :: ','многие птицы осенью улетают на юг')\n",
    "    print(function('мы не можем прожить ни дня без воды','многие птицы осенью улетают на юг'))\n",
    "    print()\n",
    "    print('мы не можем прожить ни дня без воды',' :: ','я не могу ничего найти')\n",
    "    print(function('том и мэри объявили сегодня о своей помолвке','почему она так с ним поступает'))\n",
    "    print()\n",
    "    print('ты нашел их или нет',' :: ','ты не будешь один')\n",
    "    print(function('ты нашел их или нет','ты не будешь один'))\n",
    "    print()\n",
    "    print('я больше не хочу с тобой играть',' :: ','я не могу ничего найти')\n",
    "    print(function('я больше не хочу с тобой играть','я не могу ничего найти'))\n",
    "    print()\n",
    "    print('я не хочу больше на вас работать',' :: ','я не могу ничего найти')\n",
    "    print(function('я не хочу больше на вас работать','я не могу ничего найти'))\n",
    "    print()\n",
    "    print('я не хочу больше на вас работать',' :: ','я не хочу с тобой больше играть')\n",
    "    print(function('я не хочу больше на вас работать','я не хочу с тобой больше играть'))\n",
    "    print()\n",
    "    print('я ничего не хочу делать',' :: ','я ничего не хочу пить')\n",
    "    print(function('я ничего не хочу делать','я ничего не хочу пить'))\n",
    "    print()\n",
    "    print('почему она так с ней поступает',' :: ','почему она так с ним поступает')\n",
    "    print(function('почему она так с ней поступает','почему она так с ним поступает'))"
   ]
  },
  {
   "cell_type": "markdown",
   "id": "7548495b-c938-4b7f-875f-e8829717def9",
   "metadata": {},
   "source": [
    "#### Дивергенция Дженсена-Шеннона"
   ]
  },
  {
   "cell_type": "code",
   "execution_count": 23,
   "id": "99a44390-68b2-4c15-b302-f8f1ba663515",
   "metadata": {},
   "outputs": [
    {
     "name": "stdout",
     "output_type": "stream",
     "text": [
      "============ Строки, результат алгоритма которых должен стремиться к 1 ============\n",
      "\n",
      "мы не можем прожить ни дня без воды  ::  мы ни дня не можем прожить без воды\n",
      "1.0\n",
      "\n",
      "том не живет в бостоне  ::  том сейчас не живет в бостоне\n",
      "0.725180098873329\n",
      "\n",
      "том и мэри объявили сегодня о своей помолвке  ::  том и мэри объявили сегодня о своей пбмолвке\n",
      "0.6601110032770636\n",
      "\n",
      "многие птицы на зиму улетают на юг  ::  многие птицы осенью улетают на юг\n",
      "0.6571460578958184\n",
      "\n",
      "============ Строки, результат алгоритма которых должен стремиться к 0 ============\n",
      "\n",
      "мы не можем прожить ни дня без воды  ::  многие птицы осенью улетают на юг\n",
      "0.16127667007450353\n",
      "\n",
      "мы не можем прожить ни дня без воды  ::  я не могу ничего найти\n",
      "0.16495713764663977\n",
      "\n",
      "ты нашел их или нет  ::  ты не будешь один\n",
      "0.2628430798444362\n",
      "\n",
      "я больше не хочу с тобой играть  ::  я не могу ничего найти\n",
      "0.2628430798444362\n",
      "\n",
      "я не хочу больше на вас работать  ::  я не могу ничего найти\n",
      "0.24557802576845789\n",
      "\n",
      "я не хочу больше на вас работать  ::  я не хочу с тобой больше играть\n",
      "0.4378028524980556\n",
      "\n",
      "я ничего не хочу делать  ::  я ничего не хочу пить\n",
      "0.5837226944211511\n",
      "\n",
      "почему она так с ней поступает  ::  почему она так с ним поступает\n",
      "0.6276702588940966\n"
     ]
    }
   ],
   "source": [
    "check_algorithm(JSD.JSD)"
   ]
  },
  {
   "cell_type": "markdown",
   "id": "17e7f8ff-2d8b-4f43-b42e-11bcd5bfe2ca",
   "metadata": {},
   "source": [
    "#### Косинусное сходство при векторизации подсчетом"
   ]
  },
  {
   "cell_type": "code",
   "execution_count": 24,
   "id": "7f92fc5c-e1fd-4aa6-b5a6-6ea0de59503d",
   "metadata": {},
   "outputs": [
    {
     "name": "stdout",
     "output_type": "stream",
     "text": [
      "============ Строки, результат алгоритма которых должен стремиться к 1 ============\n",
      "\n",
      "мы не можем прожить ни дня без воды  ::  мы ни дня не можем прожить без воды\n",
      "0.9999999999999998\n",
      "\n",
      "том не живет в бостоне  ::  том сейчас не живет в бостоне\n",
      "0.8944271909999159\n",
      "\n",
      "том и мэри объявили сегодня о своей помолвке  ::  том и мэри объявили сегодня о своей пбмолвке\n",
      "0.8333333333333335\n",
      "\n",
      "многие птицы на зиму улетают на юг  ::  многие птицы осенью улетают на юг\n",
      "0.8164965809277261\n",
      "\n",
      "============ Строки, результат алгоритма которых должен стремиться к 0 ============\n",
      "\n",
      "мы не можем прожить ни дня без воды  ::  многие птицы осенью улетают на юг\n",
      "0.0\n",
      "\n",
      "мы не можем прожить ни дня без воды  ::  я не могу ничего найти\n",
      "0.0\n",
      "\n",
      "ты нашел их или нет  ::  ты не будешь один\n",
      "0.22360679774997896\n",
      "\n",
      "я больше не хочу с тобой играть  ::  я не могу ничего найти\n",
      "0.22360679774997896\n",
      "\n",
      "я не хочу больше на вас работать  ::  я не могу ничего найти\n",
      "0.20412414523193154\n",
      "\n",
      "я не хочу больше на вас работать  ::  я не хочу с тобой больше играть\n",
      "0.5477225575051661\n",
      "\n",
      "я ничего не хочу делать  ::  я ничего не хочу пить\n",
      "0.75\n",
      "\n",
      "почему она так с ней поступает  ::  почему она так с ним поступает\n",
      "0.7999999999999998\n"
     ]
    }
   ],
   "source": [
    "check_algorithm(cosine_count.cosine_count)"
   ]
  },
  {
   "cell_type": "markdown",
   "id": "0c61322c-eca3-4b54-825f-9f84e577722c",
   "metadata": {},
   "source": [
    "#### Косинусное сходство при векторизации TF-IDF"
   ]
  },
  {
   "cell_type": "code",
   "execution_count": 25,
   "id": "fab0de3b-90fe-4883-a73a-143c115b3f7f",
   "metadata": {},
   "outputs": [
    {
     "name": "stdout",
     "output_type": "stream",
     "text": [
      "============ Строки, результат алгоритма которых должен стремиться к 1 ============\n",
      "\n",
      "мы не можем прожить ни дня без воды  ::  мы ни дня не можем прожить без воды\n",
      "1.0000000000000002\n",
      "\n",
      "том не живет в бостоне  ::  том сейчас не живет в бостоне\n",
      "0.8181802073667197\n",
      "\n",
      "том и мэри объявили сегодня о своей помолвке  ::  том и мэри объявили сегодня о своей пбмолвке\n",
      "0.7168117414430624\n",
      "\n",
      "многие птицы на зиму улетают на юг  ::  многие птицы осенью улетают на юг\n",
      "0.7192918182472702\n",
      "\n",
      "============ Строки, результат алгоритма которых должен стремиться к 0 ============\n",
      "\n",
      "мы не можем прожить ни дня без воды  ::  многие птицы осенью улетают на юг\n",
      "0.0\n",
      "\n",
      "мы не можем прожить ни дня без воды  ::  я не могу ничего найти\n",
      "0.0\n",
      "\n",
      "ты нашел их или нет  ::  ты не будешь один\n",
      "0.12735952979479354\n",
      "\n",
      "я больше не хочу с тобой играть  ::  я не могу ничего найти\n",
      "0.12735952979479356\n",
      "\n",
      "я не хочу больше на вас работать  ::  я не могу ничего найти\n",
      "0.11521554337793123\n",
      "\n",
      "я не хочу больше на вас работать  ::  я не хочу с тобой больше играть\n",
      "0.3808726084759438\n",
      "\n",
      "я ничего не хочу делать  ::  я ничего не хочу пить\n",
      "0.6029748160380572\n",
      "\n",
      "почему она так с ней поступает  ::  почему она так с ним поступает\n",
      "0.6694188517266485\n"
     ]
    }
   ],
   "source": [
    "check_algorithm(cosine_tfidf.cosine_tfidf)"
   ]
  },
  {
   "cell_type": "markdown",
   "id": "2a9e62b6-0741-44f0-b474-bc36b1bbbd63",
   "metadata": {},
   "source": [
    "#### Алгоритм Дамерау-Левенштейна"
   ]
  },
  {
   "cell_type": "code",
   "execution_count": 26,
   "id": "65c734c0-6d70-4b24-8333-24eefa5fe085",
   "metadata": {},
   "outputs": [
    {
     "name": "stdout",
     "output_type": "stream",
     "text": [
      "============ Строки, результат алгоритма которых должен стремиться к 1 ============\n",
      "\n",
      "мы не можем прожить ни дня без воды  ::  мы ни дня не можем прожить без воды\n",
      "0.6\n",
      "\n",
      "том не живет в бостоне  ::  том сейчас не живет в бостоне\n",
      "0.7586206896551724\n",
      "\n",
      "том и мэри объявили сегодня о своей помолвке  ::  том и мэри объявили сегодня о своей пбмолвке\n",
      "0.9772727272727273\n",
      "\n",
      "многие птицы на зиму улетают на юг  ::  многие птицы осенью улетают на юг\n",
      "0.7941176470588236\n",
      "\n",
      "============ Строки, результат алгоритма которых должен стремиться к 0 ============\n",
      "\n",
      "мы не можем прожить ни дня без воды  ::  многие птицы осенью улетают на юг\n",
      "0.17142857142857137\n",
      "\n",
      "мы не можем прожить ни дня без воды  ::  я не могу ничего найти\n",
      "0.2272727272727273\n",
      "\n",
      "ты нашел их или нет  ::  ты не будешь один\n",
      "0.3157894736842105\n",
      "\n",
      "я больше не хочу с тобой играть  ::  я не могу ничего найти\n",
      "0.3548387096774194\n",
      "\n",
      "я не хочу больше на вас работать  ::  я не могу ничего найти\n",
      "0.375\n",
      "\n",
      "я не хочу больше на вас работать  ::  я не хочу с тобой больше играть\n",
      "0.4375\n",
      "\n",
      "я ничего не хочу делать  ::  я ничего не хочу пить\n",
      "0.8260869565217391\n",
      "\n",
      "почему она так с ней поступает  ::  почему она так с ним поступает\n",
      "0.9333333333333333\n"
     ]
    }
   ],
   "source": [
    "check_algorithm(dam_lev_dist.damerau_levenshtein_distance)"
   ]
  },
  {
   "cell_type": "markdown",
   "id": "c7583803-6ca7-46d5-82aa-e2ad058bab96",
   "metadata": {},
   "source": [
    "#### Манхэттенское расстояние"
   ]
  },
  {
   "cell_type": "code",
   "execution_count": 27,
   "id": "d6898cc4-a81c-46a6-a2d5-7126667f3975",
   "metadata": {},
   "outputs": [
    {
     "name": "stdout",
     "output_type": "stream",
     "text": [
      "============ Строки, результат алгоритма которых должен стремиться к 1 ============\n",
      "\n",
      "мы не можем прожить ни дня без воды  ::  мы ни дня не можем прожить без воды\n",
      "1.0\n",
      "\n",
      "том не живет в бостоне  ::  том сейчас не живет в бостоне\n",
      "0.8888888888888888\n",
      "\n",
      "том и мэри объявили сегодня о своей помолвке  ::  том и мэри объявили сегодня о своей пбмолвке\n",
      "0.8333333333333334\n",
      "\n",
      "многие птицы на зиму улетают на юг  ::  многие птицы осенью улетают на юг\n",
      "0.7692307692307692\n",
      "\n",
      "============ Строки, результат алгоритма которых должен стремиться к 0 ============\n",
      "\n",
      "мы не можем прожить ни дня без воды  ::  многие птицы осенью улетают на юг\n",
      "0.0\n",
      "\n",
      "мы не можем прожить ни дня без воды  ::  я не могу ничего найти\n",
      "0.0\n",
      "\n",
      "ты нашел их или нет  ::  ты не будешь один\n",
      "0.2222222222222222\n",
      "\n",
      "я больше не хочу с тобой играть  ::  я не могу ничего найти\n",
      "0.2222222222222222\n",
      "\n",
      "я не хочу больше на вас работать  ::  я не могу ничего найти\n",
      "0.19999999999999996\n",
      "\n",
      "я не хочу больше на вас работать  ::  я не хочу с тобой больше играть\n",
      "0.5454545454545454\n",
      "\n",
      "я ничего не хочу делать  ::  я ничего не хочу пить\n",
      "0.75\n",
      "\n",
      "почему она так с ней поступает  ::  почему она так с ним поступает\n",
      "0.8\n"
     ]
    }
   ],
   "source": [
    "check_algorithm(distance_L1.distance_L1)"
   ]
  },
  {
   "cell_type": "markdown",
   "id": "a82a18c0-3a3a-43d1-b2a6-4ada1c095f87",
   "metadata": {},
   "source": [
    "#### Евклидово расстояние"
   ]
  },
  {
   "cell_type": "code",
   "execution_count": 28,
   "id": "1774150f-d02a-4875-bdd7-8ec84b373746",
   "metadata": {},
   "outputs": [
    {
     "name": "stdout",
     "output_type": "stream",
     "text": [
      "============ Строки, результат алгоритма которых должен стремиться к 1 ============\n",
      "\n",
      "мы не можем прожить ни дня без воды  ::  мы ни дня не можем прожить без воды\n",
      "1.0\n",
      "\n",
      "том не живет в бостоне  ::  том сейчас не живет в бостоне\n",
      "0.8888888888888888\n",
      "\n",
      "том и мэри объявили сегодня о своей помолвке  ::  том и мэри объявили сегодня о своей пбмолвке\n",
      "0.882148869802242\n",
      "\n",
      "многие птицы на зиму улетают на юг  ::  многие птицы осенью улетают на юг\n",
      "0.8667653224947017\n",
      "\n",
      "============ Строки, результат алгоритма которых должен стремиться к 0 ============\n",
      "\n",
      "мы не можем прожить ни дня без воды  ::  многие птицы осенью улетают на юг\n",
      "0.7327387580875756\n",
      "\n",
      "мы не можем прожить ни дня без воды  ::  я не могу ничего найти\n",
      "0.6984886554222364\n",
      "\n",
      "ты нашел их или нет  ::  ты не будешь один\n",
      "0.7060276321039344\n",
      "\n",
      "я больше не хочу с тобой играть  ::  я не могу ничего найти\n",
      "0.7060276321039344\n",
      "\n",
      "я не хочу больше на вас работать  ::  я не могу ничего найти\n",
      "0.717157287525381\n",
      "\n",
      "я не хочу больше на вас работать  ::  я не хочу с тобой больше играть\n",
      "0.7967210929545645\n",
      "\n",
      "я ничего не хочу делать  ::  я ничего не хочу пить\n",
      "0.8232233047033631\n",
      "\n",
      "почему она так с ней поступает  ::  почему она так с ним поступает\n",
      "0.8585786437626906\n"
     ]
    }
   ],
   "source": [
    "check_algorithm(distance_L2.distance_L2)"
   ]
  },
  {
   "cell_type": "markdown",
   "id": "54adc064-6f89-47ed-bd7a-19f0aa4cf2cc",
   "metadata": {},
   "source": [
    "#### Сочетание алгоритмов выравнивания последовательностей и расстояния Хэмминга"
   ]
  },
  {
   "cell_type": "code",
   "execution_count": 29,
   "id": "9b896863-a1ce-4433-94bb-53175c8c271c",
   "metadata": {},
   "outputs": [
    {
     "name": "stdout",
     "output_type": "stream",
     "text": [
      "============ Строки, результат алгоритма которых должен стремиться к 1 ============\n",
      "\n",
      "мы не можем прожить ни дня без воды  ::  мы ни дня не можем прожить без воды\n",
      "0.375\n",
      "\n",
      "том не живет в бостоне  ::  том сейчас не живет в бостоне\n",
      "0.8333333333333334\n",
      "\n",
      "том и мэри объявили сегодня о своей помолвке  ::  том и мэри объявили сегодня о своей пбмолвке\n",
      "0.875\n",
      "\n",
      "многие птицы на зиму улетают на юг  ::  многие птицы осенью улетают на юг\n",
      "0.7142857142857143\n",
      "\n",
      "============ Строки, результат алгоритма которых должен стремиться к 0 ============\n",
      "\n",
      "мы не можем прожить ни дня без воды  ::  многие птицы осенью улетают на юг\n",
      "0.0\n",
      "\n",
      "мы не можем прожить ни дня без воды  ::  я не могу ничего найти\n",
      "0.0\n",
      "\n",
      "ты нашел их или нет  ::  ты не будешь один\n",
      "0.19999999999999996\n",
      "\n",
      "я больше не хочу с тобой играть  ::  я не могу ничего найти\n",
      "0.2857142857142857\n",
      "\n",
      "я не хочу больше на вас работать  ::  я не могу ничего найти\n",
      "0.2857142857142857\n",
      "\n",
      "я не хочу больше на вас работать  ::  я не хочу с тобой больше играть\n",
      "0.4285714285714286\n",
      "\n",
      "я ничего не хочу делать  ::  я ничего не хочу пить\n",
      "0.8\n",
      "\n",
      "почему она так с ней поступает  ::  почему она так с ним поступает\n",
      "0.8333333333333334\n"
     ]
    }
   ],
   "source": [
    "check_algorithm(hamming_distance_and_sequence_alignment_composition.hamming_distance_normalized)"
   ]
  },
  {
   "cell_type": "markdown",
   "id": "7555e6b7-d807-4a60-a428-34d3126ec552",
   "metadata": {},
   "source": [
    "#### Расстояние Хэмминга"
   ]
  },
  {
   "cell_type": "code",
   "execution_count": 30,
   "id": "5989c323-f6fe-4c00-bd06-a288841903ff",
   "metadata": {},
   "outputs": [
    {
     "name": "stdout",
     "output_type": "stream",
     "text": [
      "============ Строки, результат алгоритма которых должен стремиться к 1 ============\n",
      "\n",
      "мы не можем прожить ни дня без воды  ::  мы ни дня не можем прожить без воды\n",
      "0.4571428571428572\n",
      "\n",
      "том не живет в бостоне  ::  том сейчас не живет в бостоне\n",
      "0\n",
      "\n",
      "том и мэри объявили сегодня о своей помолвке  ::  том и мэри объявили сегодня о своей пбмолвке\n",
      "0.9772727272727273\n",
      "\n",
      "многие птицы на зиму улетают на юг  ::  многие птицы осенью улетают на юг\n",
      "0\n",
      "\n",
      "============ Строки, результат алгоритма которых должен стремиться к 0 ============\n",
      "\n",
      "мы не можем прожить ни дня без воды  ::  многие птицы осенью улетают на юг\n",
      "0\n",
      "\n",
      "мы не можем прожить ни дня без воды  ::  я не могу ничего найти\n",
      "0\n",
      "\n",
      "ты нашел их или нет  ::  ты не будешь один\n",
      "0\n",
      "\n",
      "я больше не хочу с тобой играть  ::  я не могу ничего найти\n",
      "0\n",
      "\n",
      "я не хочу больше на вас работать  ::  я не могу ничего найти\n",
      "0\n",
      "\n",
      "я не хочу больше на вас работать  ::  я не хочу с тобой больше играть\n",
      "0\n",
      "\n",
      "я ничего не хочу делать  ::  я ничего не хочу пить\n",
      "0\n",
      "\n",
      "почему она так с ней поступает  ::  почему она так с ним поступает\n",
      "0.9333333333333333\n"
     ]
    }
   ],
   "source": [
    "check_algorithm(hamming_distance_custom.hamming_distance_custom)"
   ]
  },
  {
   "cell_type": "markdown",
   "id": "fc2e59f7-6996-4148-b83e-631e7182aa0e",
   "metadata": {},
   "source": [
    "#### Расстояние Хеллингера"
   ]
  },
  {
   "cell_type": "code",
   "execution_count": 31,
   "id": "6f22624a-4b9f-4bae-b3dd-41fe664ed9df",
   "metadata": {},
   "outputs": [
    {
     "name": "stdout",
     "output_type": "stream",
     "text": [
      "============ Строки, результат алгоритма которых должен стремиться к 1 ============\n",
      "\n",
      "мы не можем прожить ни дня без воды  ::  мы ни дня не можем прожить без воды\n",
      "1.0\n",
      "\n",
      "том не живет в бостоне  ::  том сейчас не живет в бостоне\n",
      "1.0\n",
      "\n",
      "том и мэри объявили сегодня о своей помолвке  ::  том и мэри объявили сегодня о своей пбмолвке\n",
      "1.0\n",
      "\n",
      "многие птицы на зиму улетают на юг  ::  многие птицы осенью улетают на юг\n",
      "1.0\n",
      "\n",
      "============ Строки, результат алгоритма которых должен стремиться к 0 ============\n",
      "\n",
      "мы не можем прожить ни дня без воды  ::  многие птицы осенью улетают на юг\n",
      "0.2928932188134524\n",
      "\n",
      "мы не можем прожить ни дня без воды  ::  я не могу ничего найти\n",
      "0.2928932188134524\n",
      "\n",
      "ты нашел их или нет  ::  ты не будешь один\n",
      "1.0\n",
      "\n",
      "я больше не хочу с тобой играть  ::  я не могу ничего найти\n",
      "0.2928932188134524\n",
      "\n",
      "я не хочу больше на вас работать  ::  я не могу ничего найти\n",
      "0.2928932188134524\n",
      "\n",
      "я не хочу больше на вас работать  ::  я не хочу с тобой больше играть\n",
      "1.0\n",
      "\n",
      "я ничего не хочу делать  ::  я ничего не хочу пить\n",
      "1.0\n",
      "\n",
      "почему она так с ней поступает  ::  почему она так с ним поступает\n",
      "1.0\n"
     ]
    }
   ],
   "source": [
    "check_algorithm(hellinger.hellinger_distance)"
   ]
  },
  {
   "cell_type": "markdown",
   "id": "a436ed27-e43c-48d7-98dd-2305e7f0dd63",
   "metadata": {},
   "source": [
    "#### Сходство Жаккарда"
   ]
  },
  {
   "cell_type": "code",
   "execution_count": 32,
   "id": "5e3941ba-fb06-4761-a0bd-7de1d17fb525",
   "metadata": {},
   "outputs": [
    {
     "name": "stdout",
     "output_type": "stream",
     "text": [
      "============ Строки, результат алгоритма которых должен стремиться к 1 ============\n",
      "\n",
      "мы не можем прожить ни дня без воды  ::  мы ни дня не можем прожить без воды\n",
      "1.0\n",
      "\n",
      "том не живет в бостоне  ::  том сейчас не живет в бостоне\n",
      "0.7857142857142857\n",
      "\n",
      "том и мэри объявили сегодня о своей помолвке  ::  том и мэри объявили сегодня о своей пбмолвке\n",
      "1.0\n",
      "\n",
      "многие птицы на зиму улетают на юг  ::  многие птицы осенью улетают на юг\n",
      "0.8333333333333334\n",
      "\n",
      "============ Строки, результат алгоритма которых должен стремиться к 0 ============\n",
      "\n",
      "мы не можем прожить ни дня без воды  ::  многие птицы осенью улетают на юг\n",
      "0.4166666666666667\n",
      "\n",
      "мы не можем прожить ни дня без воды  ::  я не могу ничего найти\n",
      "0.43478260869565216\n",
      "\n",
      "ты нашел их или нет  ::  ты не будешь один\n",
      "0.4666666666666667\n",
      "\n",
      "я больше не хочу с тобой играть  ::  я не могу ничего найти\n",
      "0.6\n",
      "\n",
      "я не хочу больше на вас работать  ::  я не могу ничего найти\n",
      "0.42857142857142855\n",
      "\n",
      "я не хочу больше на вас работать  ::  я не хочу с тобой больше играть\n",
      "0.8\n",
      "\n",
      "я ничего не хочу делать  ::  я ничего не хочу пить\n",
      "0.75\n",
      "\n",
      "почему она так с ней поступает  ::  почему она так с ним поступает\n",
      "0.8571428571428571\n"
     ]
    }
   ],
   "source": [
    "check_algorithm(jaccard.Jaccard)"
   ]
  },
  {
   "cell_type": "markdown",
   "id": "df017ecb-9beb-4ed5-999a-8cef6758b895",
   "metadata": {},
   "source": [
    "#### Расстояние Джаро-Винклера"
   ]
  },
  {
   "cell_type": "code",
   "execution_count": 33,
   "id": "21d3164c-177a-4dd6-bf9f-be2363984453",
   "metadata": {},
   "outputs": [
    {
     "name": "stdout",
     "output_type": "stream",
     "text": [
      "============ Строки, результат алгоритма которых должен стремиться к 1 ============\n",
      "\n",
      "мы не можем прожить ни дня без воды  ::  мы ни дня не можем прожить без воды\n",
      "0.9044155844155843\n",
      "\n",
      "том не живет в бостоне  ::  том сейчас не живет в бостоне\n",
      "0.8789968652037617\n",
      "\n",
      "том и мэри объявили сегодня о своей помолвке  ::  том и мэри объявили сегодня о своей пбмолвке\n",
      "0.9862579281183932\n",
      "\n",
      "многие птицы на зиму улетают на юг  ::  многие птицы осенью улетают на юг\n",
      "0.891545709192768\n",
      "\n",
      "============ Строки, результат алгоритма которых должен стремиться к 0 ============\n",
      "\n",
      "мы не можем прожить ни дня без воды  ::  многие птицы осенью улетают на юг\n",
      "0.6091630591630591\n",
      "\n",
      "мы не можем прожить ни дня без воды  ::  я не могу ничего найти\n",
      "0.5215488215488215\n",
      "\n",
      "ты нашел их или нет  ::  ты не будешь один\n",
      "0.6510929730743972\n",
      "\n",
      "я больше не хочу с тобой играть  ::  я не могу ничего найти\n",
      "0.6756655741475476\n",
      "\n",
      "я не хочу больше на вас работать  ::  я не могу ничего найти\n",
      "0.6501893939393939\n",
      "\n",
      "я не хочу больше на вас работать  ::  я не хочу с тобой больше играть\n",
      "0.8763957816377171\n",
      "\n",
      "я ничего не хочу делать  ::  я ничего не хочу пить\n",
      "0.9461697722567287\n",
      "\n",
      "почему она так с ней поступает  ::  почему она так с ним поступает\n",
      "0.9447619047619048\n"
     ]
    }
   ],
   "source": [
    "check_algorithm(jaro_winkler.jaro_Winkler)"
   ]
  },
  {
   "cell_type": "markdown",
   "id": "eadf80ea-abc2-4a6a-a55f-8449b72ee936",
   "metadata": {},
   "source": [
    "#### Расстояние Карловского"
   ]
  },
  {
   "cell_type": "code",
   "execution_count": 34,
   "id": "b4228000-8271-4495-b03f-893a5d8980db",
   "metadata": {},
   "outputs": [
    {
     "name": "stdout",
     "output_type": "stream",
     "text": [
      "============ Строки, результат алгоритма которых должен стремиться к 1 ============\n",
      "\n",
      "мы не можем прожить ни дня без воды  ::  мы ни дня не можем прожить без воды\n",
      "1.0\n",
      "\n",
      "том не живет в бостоне  ::  том сейчас не живет в бостоне\n",
      "0.9019607843137255\n",
      "\n",
      "том и мэри объявили сегодня о своей помолвке  ::  том и мэри объявили сегодня о своей пбмолвке\n",
      "0.9772727272727273\n",
      "\n",
      "многие птицы на зиму улетают на юг  ::  многие птицы осенью улетают на юг\n",
      "0.835820895522388\n",
      "\n",
      "============ Строки, результат алгоритма которых должен стремиться к 0 ============\n",
      "\n",
      "мы не можем прожить ни дня без воды  ::  многие птицы осенью улетают на юг\n",
      "0.02941176470588236\n",
      "\n",
      "мы не можем прожить ни дня без воды  ::  я не могу ничего найти\n",
      "0.027027027027026973\n",
      "\n",
      "ты нашел их или нет  ::  ты не будешь один\n",
      "0.2777777777777778\n",
      "\n",
      "я больше не хочу с тобой играть  ::  я не могу ничего найти\n",
      "0.15094339622641506\n",
      "\n",
      "я не хочу больше на вас работать  ::  я не могу ничего найти\n",
      "0.2222222222222222\n",
      "\n",
      "я не хочу больше на вас работать  ::  я не хочу с тобой больше играть\n",
      "0.6031746031746033\n",
      "\n",
      "я ничего не хочу делать  ::  я ничего не хочу пить\n",
      "0.8636363636363636\n",
      "\n",
      "почему она так с ней поступает  ::  почему она так с ним поступает\n",
      "0.9333333333333333\n"
     ]
    }
   ],
   "source": [
    "check_algorithm(karlovskiy_distance.karlovskiy_distance)"
   ]
  },
  {
   "cell_type": "markdown",
   "id": "67624a5a-f723-4c47-97be-3a465bf9d980",
   "metadata": {},
   "source": [
    "#### Расстояние Левенштейна"
   ]
  },
  {
   "cell_type": "code",
   "execution_count": 35,
   "id": "8f2da6f2-b727-4da4-a5a9-68fe993a9781",
   "metadata": {},
   "outputs": [
    {
     "name": "stdout",
     "output_type": "stream",
     "text": [
      "============ Строки, результат алгоритма которых должен стремиться к 1 ============\n",
      "\n",
      "мы не можем прожить ни дня без воды  ::  мы ни дня не можем прожить без воды\n",
      "0.6\n",
      "\n",
      "том не живет в бостоне  ::  том сейчас не живет в бостоне\n",
      "0.7586206896551724\n",
      "\n",
      "том и мэри объявили сегодня о своей помолвке  ::  том и мэри объявили сегодня о своей пбмолвке\n",
      "0.9772727272727273\n",
      "\n",
      "многие птицы на зиму улетают на юг  ::  многие птицы осенью улетают на юг\n",
      "0.7941176470588236\n",
      "\n",
      "============ Строки, результат алгоритма которых должен стремиться к 0 ============\n",
      "\n",
      "мы не можем прожить ни дня без воды  ::  многие птицы осенью улетают на юг\n",
      "0.17142857142857137\n",
      "\n",
      "мы не можем прожить ни дня без воды  ::  я не могу ничего найти\n",
      "0.2272727272727273\n",
      "\n",
      "ты нашел их или нет  ::  ты не будешь один\n",
      "0.3157894736842105\n",
      "\n",
      "я больше не хочу с тобой играть  ::  я не могу ничего найти\n",
      "0.3548387096774194\n",
      "\n",
      "я не хочу больше на вас работать  ::  я не могу ничего найти\n",
      "0.375\n",
      "\n",
      "я не хочу больше на вас работать  ::  я не хочу с тобой больше играть\n",
      "0.4375\n",
      "\n",
      "я ничего не хочу делать  ::  я ничего не хочу пить\n",
      "0.8260869565217391\n",
      "\n",
      "почему она так с ней поступает  ::  почему она так с ним поступает\n",
      "0.9333333333333333\n"
     ]
    }
   ],
   "source": [
    "check_algorithm(lev_dist.levenshtein_distance)"
   ]
  },
  {
   "cell_type": "markdown",
   "id": "d8c7b34b-c447-4b45-a0d4-b10bcec4bffa",
   "metadata": {},
   "source": [
    "#### Алгоритм Майерса"
   ]
  },
  {
   "cell_type": "code",
   "execution_count": 36,
   "id": "0ea57e48-89fe-4737-941f-0b553ce1e65b",
   "metadata": {},
   "outputs": [
    {
     "name": "stdout",
     "output_type": "stream",
     "text": [
      "============ Строки, результат алгоритма которых должен стремиться к 1 ============\n",
      "\n",
      "мы не можем прожить ни дня без воды  ::  мы ни дня не можем прожить без воды\n",
      "0.6\n",
      "\n",
      "том не живет в бостоне  ::  том сейчас не живет в бостоне\n",
      "0.7586206896551724\n",
      "\n",
      "том и мэри объявили сегодня о своей помолвке  ::  том и мэри объявили сегодня о своей пбмолвке\n",
      "0.9772727272727273\n",
      "\n",
      "многие птицы на зиму улетают на юг  ::  многие птицы осенью улетают на юг\n",
      "0.7941176470588236\n",
      "\n",
      "============ Строки, результат алгоритма которых должен стремиться к 0 ============\n",
      "\n",
      "мы не можем прожить ни дня без воды  ::  многие птицы осенью улетают на юг\n",
      "0.17142857142857137\n",
      "\n",
      "мы не можем прожить ни дня без воды  ::  я не могу ничего найти\n",
      "0.2272727272727273\n",
      "\n",
      "ты нашел их или нет  ::  ты не будешь один\n",
      "0.3157894736842105\n",
      "\n",
      "я больше не хочу с тобой играть  ::  я не могу ничего найти\n",
      "0.3548387096774194\n",
      "\n",
      "я не хочу больше на вас работать  ::  я не могу ничего найти\n",
      "0.375\n",
      "\n",
      "я не хочу больше на вас работать  ::  я не хочу с тобой больше играть\n",
      "0.4375\n",
      "\n",
      "я ничего не хочу делать  ::  я ничего не хочу пить\n",
      "0.8260869565217391\n",
      "\n",
      "почему она так с ней поступает  ::  почему она так с ним поступает\n",
      "0.9333333333333333\n"
     ]
    }
   ],
   "source": [
    "check_algorithm(myers.myers)"
   ]
  },
  {
   "cell_type": "markdown",
   "id": "5b876951-1c1d-4812-9cf2-26da68005873",
   "metadata": {},
   "source": [
    "#### N-граммы"
   ]
  },
  {
   "cell_type": "code",
   "execution_count": 37,
   "id": "fbce76db-eeca-4a9b-a22f-a8a6a9a3ca74",
   "metadata": {},
   "outputs": [
    {
     "name": "stdout",
     "output_type": "stream",
     "text": [
      "============ Строки, результат алгоритма которых должен стремиться к 1 ============\n",
      "\n",
      "мы не можем прожить ни дня без воды  ::  мы ни дня не можем прожить без воды\n",
      "1.0\n",
      "\n",
      "том не живет в бостоне  ::  том сейчас не живет в бостоне\n",
      "0.8275862068965517\n",
      "\n",
      "том и мэри объявили сегодня о своей помолвке  ::  том и мэри объявили сегодня о своей пбмолвке\n",
      "0.9285714285714286\n",
      "\n",
      "многие птицы на зиму улетают на юг  ::  многие птицы осенью улетают на юг\n",
      "0.7804878048780488\n",
      "\n",
      "============ Строки, результат алгоритма которых должен стремиться к 0 ============\n",
      "\n",
      "мы не можем прожить ни дня без воды  ::  многие птицы осенью улетают на юг\n",
      "0.0\n",
      "\n",
      "мы не можем прожить ни дня без воды  ::  я не могу ничего найти\n",
      "0.043478260869565216\n",
      "\n",
      "ты нашел их или нет  ::  ты не будешь один\n",
      "0.2222222222222222\n",
      "\n",
      "я больше не хочу с тобой играть  ::  я не могу ничего найти\n",
      "0.06896551724137931\n",
      "\n",
      "я не хочу больше на вас работать  ::  я не могу ничего найти\n",
      "0.13333333333333333\n",
      "\n",
      "я не хочу больше на вас работать  ::  я не хочу с тобой больше играть\n",
      "0.6857142857142857\n",
      "\n",
      "я ничего не хочу делать  ::  я ничего не хочу пить\n",
      "0.75\n",
      "\n",
      "почему она так с ней поступает  ::  почему она так с ним поступает\n",
      "0.8888888888888888\n"
     ]
    }
   ],
   "source": [
    "check_algorithm(ngrams.ngram_comparison)"
   ]
  },
  {
   "cell_type": "markdown",
   "id": "23a83b17-7bf3-42d4-86a6-1f07954961c9",
   "metadata": {},
   "source": [
    "### Индекс Тверского на основании N-грамм"
   ]
  },
  {
   "cell_type": "code",
   "execution_count": 38,
   "id": "e6e27d89-29da-4838-846e-cbb49eb59168",
   "metadata": {},
   "outputs": [
    {
     "name": "stdout",
     "output_type": "stream",
     "text": [
      "============ Строки, результат алгоритма которых должен стремиться к 1 ============\n",
      "\n",
      "мы не можем прожить ни дня без воды  ::  мы ни дня не можем прожить без воды\n",
      "1.0\n",
      "\n",
      "том не живет в бостоне  ::  том сейчас не живет в бостоне\n",
      "0.8275862068965517\n",
      "\n",
      "том и мэри объявили сегодня о своей помолвке  ::  том и мэри объявили сегодня о своей пбмолвке\n",
      "0.9285714285714286\n",
      "\n",
      "многие птицы на зиму улетают на юг  ::  многие птицы осенью улетают на юг\n",
      "0.7804878048780488\n",
      "\n",
      "============ Строки, результат алгоритма которых должен стремиться к 0 ============\n",
      "\n",
      "мы не можем прожить ни дня без воды  ::  многие птицы осенью улетают на юг\n",
      "0.0\n",
      "\n",
      "мы не можем прожить ни дня без воды  ::  я не могу ничего найти\n",
      "0.043478260869565216\n",
      "\n",
      "ты нашел их или нет  ::  ты не будешь один\n",
      "0.2222222222222222\n",
      "\n",
      "я больше не хочу с тобой играть  ::  я не могу ничего найти\n",
      "0.06896551724137931\n",
      "\n",
      "я не хочу больше на вас работать  ::  я не могу ничего найти\n",
      "0.13333333333333333\n",
      "\n",
      "я не хочу больше на вас работать  ::  я не хочу с тобой больше играть\n",
      "0.6857142857142857\n",
      "\n",
      "я ничего не хочу делать  ::  я ничего не хочу пить\n",
      "0.75\n",
      "\n",
      "почему она так с ней поступает  ::  почему она так с ним поступает\n",
      "0.8888888888888888\n"
     ]
    }
   ],
   "source": [
    "check_algorithm(ngrams.tverskiy_ngram_comparison)"
   ]
  },
  {
   "cell_type": "markdown",
   "id": "7e670d62-8fc8-451d-b6bf-71b9402d7c53",
   "metadata": {},
   "source": [
    "#### Сравнение по местоимениям"
   ]
  },
  {
   "cell_type": "code",
   "execution_count": 39,
   "id": "374796a8-dc47-4093-9412-fb9e8ac743ff",
   "metadata": {},
   "outputs": [
    {
     "name": "stdout",
     "output_type": "stream",
     "text": [
      "============ Строки, результат алгоритма которых должен стремиться к 1 ============\n",
      "\n",
      "мы не можем прожить ни дня без воды  ::  мы ни дня не можем прожить без воды\n",
      "True\n",
      "\n",
      "том не живет в бостоне  ::  том сейчас не живет в бостоне\n",
      "True\n",
      "\n",
      "том и мэри объявили сегодня о своей помолвке  ::  том и мэри объявили сегодня о своей пбмолвке\n",
      "True\n",
      "\n",
      "многие птицы на зиму улетают на юг  ::  многие птицы осенью улетают на юг\n",
      "True\n",
      "\n",
      "============ Строки, результат алгоритма которых должен стремиться к 0 ============\n",
      "\n",
      "мы не можем прожить ни дня без воды  ::  многие птицы осенью улетают на юг\n",
      "False\n",
      "\n",
      "мы не можем прожить ни дня без воды  ::  я не могу ничего найти\n",
      "False\n",
      "\n",
      "ты нашел их или нет  ::  ты не будешь один\n",
      "False\n",
      "\n",
      "я больше не хочу с тобой играть  ::  я не могу ничего найти\n",
      "False\n",
      "\n",
      "я не хочу больше на вас работать  ::  я не могу ничего найти\n",
      "False\n",
      "\n",
      "я не хочу больше на вас работать  ::  я не хочу с тобой больше играть\n",
      "False\n",
      "\n",
      "я ничего не хочу делать  ::  я ничего не хочу пить\n",
      "True\n",
      "\n",
      "почему она так с ней поступает  ::  почему она так с ним поступает\n",
      "False\n"
     ]
    }
   ],
   "source": [
    "check_algorithm(pronouns.check_pronoun_correspondence)"
   ]
  },
  {
   "cell_type": "markdown",
   "id": "d009ab3e-8bc7-4a4c-ad78-b4b81802c73f",
   "metadata": {},
   "source": [
    "#### Коэффициент Сёренсена"
   ]
  },
  {
   "cell_type": "code",
   "execution_count": 40,
   "id": "e1821c8b-59ed-41c2-862d-f5553105000d",
   "metadata": {},
   "outputs": [
    {
     "name": "stdout",
     "output_type": "stream",
     "text": [
      "============ Строки, результат алгоритма которых должен стремиться к 1 ============\n",
      "\n",
      "мы не можем прожить ни дня без воды  ::  мы ни дня не можем прожить без воды\n",
      "1.0\n",
      "\n",
      "том не живет в бостоне  ::  том сейчас не живет в бостоне\n",
      "0.8444444444444444\n",
      "\n",
      "том и мэри объявили сегодня о своей помолвке  ::  том и мэри объявили сегодня о своей пбмолвке\n",
      "0.961038961038961\n",
      "\n",
      "многие птицы на зиму улетают на юг  ::  многие птицы осенью улетают на юг\n",
      "0.8064516129032258\n",
      "\n",
      "============ Строки, результат алгоритма которых должен стремиться к 0 ============\n",
      "\n",
      "мы не можем прожить ни дня без воды  ::  многие птицы осенью улетают на юг\n",
      "0.125\n",
      "\n",
      "мы не можем прожить ни дня без воды  ::  я не могу ничего найти\n",
      "0.15151515151515152\n",
      "\n",
      "ты нашел их или нет  ::  ты не будешь один\n",
      "0.25\n",
      "\n",
      "я больше не хочу с тобой играть  ::  я не могу ничего найти\n",
      "0.2127659574468085\n",
      "\n",
      "я не хочу больше на вас работать  ::  я не могу ничего найти\n",
      "0.2553191489361702\n",
      "\n",
      "я не хочу больше на вас работать  ::  я не хочу с тобой больше играть\n",
      "0.6785714285714286\n",
      "\n",
      "я ничего не хочу делать  ::  я ничего не хочу пить\n",
      "0.8\n",
      "\n",
      "почему она так с ней поступает  ::  почему она так с ним поступает\n",
      "0.8928571428571429\n"
     ]
    }
   ],
   "source": [
    "check_algorithm(sorensen.Sorensen)"
   ]
  },
  {
   "cell_type": "markdown",
   "id": "f1470c5f-0b3b-418b-bbd2-5a367b820ef5",
   "metadata": {},
   "source": [
    "#### Сходство множеств слов"
   ]
  },
  {
   "cell_type": "code",
   "execution_count": 41,
   "id": "232f2413-7760-45c9-be05-8fe615df3491",
   "metadata": {},
   "outputs": [
    {
     "name": "stdout",
     "output_type": "stream",
     "text": [
      "============ Строки, результат алгоритма которых должен стремиться к 1 ============\n",
      "\n",
      "мы не можем прожить ни дня без воды  ::  мы ни дня не можем прожить без воды\n",
      "1.0\n",
      "\n",
      "том не живет в бостоне  ::  том сейчас не живет в бостоне\n",
      "0.8333333333333334\n",
      "\n",
      "том и мэри объявили сегодня о своей помолвке  ::  том и мэри объявили сегодня о своей пбмолвке\n",
      "0.7777777777777778\n",
      "\n",
      "многие птицы на зиму улетают на юг  ::  многие птицы осенью улетают на юг\n",
      "0.7142857142857143\n",
      "\n",
      "============ Строки, результат алгоритма которых должен стремиться к 0 ============\n",
      "\n",
      "мы не можем прожить ни дня без воды  ::  многие птицы осенью улетают на юг\n",
      "0.0\n",
      "\n",
      "мы не можем прожить ни дня без воды  ::  я не могу ничего найти\n",
      "0.0\n",
      "\n",
      "ты нашел их или нет  ::  ты не будешь один\n",
      "0.125\n",
      "\n",
      "я больше не хочу с тобой играть  ::  я не могу ничего найти\n",
      "0.19999999999999996\n",
      "\n",
      "я не хочу больше на вас работать  ::  я не могу ничего найти\n",
      "0.19999999999999996\n",
      "\n",
      "я не хочу больше на вас работать  ::  я не хочу с тобой больше играть\n",
      "0.4\n",
      "\n",
      "я ничего не хочу делать  ::  я ничего не хочу пить\n",
      "0.6666666666666667\n",
      "\n",
      "почему она так с ней поступает  ::  почему она так с ним поступает\n",
      "0.7142857142857143\n"
     ]
    }
   ],
   "source": [
    "check_algorithm(word_set.word_set)"
   ]
  },
  {
   "cell_type": "code",
   "execution_count": 56,
   "id": "98619cc3-c549-4a44-a4d7-42b4a229dfa3",
   "metadata": {},
   "outputs": [
    {
     "data": {
      "text/plain": [
       "0"
      ]
     },
     "execution_count": 56,
     "metadata": {},
     "output_type": "execute_result"
    }
   ],
   "source": [
    "hamming_distance_custom.hamming_distance_custom('1234','143')"
   ]
  }
 ],
 "metadata": {
  "kernelspec": {
   "display_name": "Python 3 (ipykernel)",
   "language": "python",
   "name": "python3"
  },
  "language_info": {
   "codemirror_mode": {
    "name": "ipython",
    "version": 3
   },
   "file_extension": ".py",
   "mimetype": "text/x-python",
   "name": "python",
   "nbconvert_exporter": "python",
   "pygments_lexer": "ipython3",
   "version": "3.11.5"
  }
 },
 "nbformat": 4,
 "nbformat_minor": 5
}
