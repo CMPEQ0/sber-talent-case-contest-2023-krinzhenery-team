{
 "cells": [
  {
   "cell_type": "markdown",
   "id": "71e02b25-7673-4a3b-883b-a123adf83d5c",
   "metadata": {},
   "source": [
    "# Анализ решений\n",
    "В проекте реализованы следующие решения:\n",
    "* [Решение №1 - Фильтрация](./Solution1.ipynb)\n",
    "* [Решение №2 - Общее покрытие](./Solution2.ipynb)\n",
    "* [Решение №3 - Ансамбль](./Solution3.ipynb)\n",
    "* [Решение №4 - Итеративная кластеризация](./Solution4.ipynb)\n",
    "* [Решение №5 - Частотный анализ](./Solution5.ipynb)\n"
   ]
  },
  {
   "cell_type": "markdown",
   "id": "68a7ece4-5a6a-4ca5-808f-1f11c757c8b1",
   "metadata": {},
   "source": [
    "## Импорт библиотек и реализованных алгоритмов"
   ]
  },
  {
   "cell_type": "code",
   "execution_count": 1,
   "id": "4d08171c-940f-4f4a-9361-72e435833c1c",
   "metadata": {},
   "outputs": [],
   "source": [
    "from src import *\n",
    "import pandas as pd\n",
    "import numpy as np"
   ]
  },
  {
   "cell_type": "markdown",
   "id": "b3b37e55-c5a7-4635-b3e2-ccca633b01bf",
   "metadata": {},
   "source": [
    "## Группировка данных"
   ]
  },
  {
   "cell_type": "code",
   "execution_count": 2,
   "id": "7a30db4d-0ed0-45db-9ad7-8377f72c1569",
   "metadata": {},
   "outputs": [
    {
     "data": {
      "application/vnd.jupyter.widget-view+json": {
       "model_id": "5ad565889f7b4b139af9924180a37307",
       "version_major": 2,
       "version_minor": 0
      },
      "text/plain": [
       "  0%|          | 0/412 [00:00<?, ?it/s]"
      ]
     },
     "metadata": {},
     "output_type": "display_data"
    },
    {
     "data": {
      "application/vnd.jupyter.widget-view+json": {
       "model_id": "557ada04527d4793acd777e9c9c88a72",
       "version_major": 2,
       "version_minor": 0
      },
      "text/plain": [
       "  0%|          | 0/412 [00:00<?, ?it/s]"
      ]
     },
     "metadata": {},
     "output_type": "display_data"
    },
    {
     "data": {
      "application/vnd.jupyter.widget-view+json": {
       "model_id": "43a59cd1ca6b4d9da2f272f4de6001b0",
       "version_major": 2,
       "version_minor": 0
      },
      "text/plain": [
       "  0%|          | 0/412 [00:00<?, ?it/s]"
      ]
     },
     "metadata": {},
     "output_type": "display_data"
    },
    {
     "data": {
      "application/vnd.jupyter.widget-view+json": {
       "model_id": "61fc53c3a1ad4fccb8a92816f29e824f",
       "version_major": 2,
       "version_minor": 0
      },
      "text/plain": [
       "  0%|          | 0/412 [00:00<?, ?it/s]"
      ]
     },
     "metadata": {},
     "output_type": "display_data"
    },
    {
     "data": {
      "application/vnd.jupyter.widget-view+json": {
       "model_id": "0b506e82110d41f791ad8c04930ecac9",
       "version_major": 2,
       "version_minor": 0
      },
      "text/plain": [
       "  0%|          | 0/412 [00:00<?, ?it/s]"
      ]
     },
     "metadata": {},
     "output_type": "display_data"
    }
   ],
   "source": [
    "dataset_path = '../data/sample.json'\n",
    "groups1 = solution1.group_by_filtering(dataset_path)  # Поиск групп по алгоритму решения №1"
   ]
  },
  {
   "cell_type": "code",
   "execution_count": 3,
   "id": "2533dee4",
   "metadata": {},
   "outputs": [
    {
     "data": {
      "application/vnd.jupyter.widget-view+json": {
       "model_id": "58e6abf244e04d7eb47f0932376241e3",
       "version_major": 2,
       "version_minor": 0
      },
      "text/plain": [
       "  0%|          | 0/412 [00:00<?, ?it/s]"
      ]
     },
     "metadata": {},
     "output_type": "display_data"
    }
   ],
   "source": [
    "groups2 = solution2.group_by_general_coverage(dataset_path) # Поиск групп по алгоритму решения №2"
   ]
  },
  {
   "cell_type": "code",
   "execution_count": 4,
   "id": "d970dfe7",
   "metadata": {},
   "outputs": [
    {
     "data": {
      "application/vnd.jupyter.widget-view+json": {
       "model_id": "c952c045391f4a1284bb90adb21e0d8b",
       "version_major": 2,
       "version_minor": 0
      },
      "text/plain": [
       "  0%|          | 0/412 [00:00<?, ?it/s]"
      ]
     },
     "metadata": {},
     "output_type": "display_data"
    },
    {
     "ename": "KeyboardInterrupt",
     "evalue": "",
     "output_type": "error",
     "traceback": [
      "\u001b[0;31m---------------------------------------------------------------------------\u001b[0m",
      "\u001b[0;31mKeyboardInterrupt\u001b[0m                         Traceback (most recent call last)",
      "Cell \u001b[0;32mIn[4], line 1\u001b[0m\n\u001b[0;32m----> 1\u001b[0m groups3 \u001b[38;5;241m=\u001b[39m \u001b[43msolution3\u001b[49m\u001b[38;5;241;43m.\u001b[39;49m\u001b[43mgroup_by_ensemble\u001b[49m\u001b[43m(\u001b[49m\u001b[43mdataset_path\u001b[49m\u001b[43m)\u001b[49m   \u001b[38;5;66;03m# Поиск групп по алгоритму решения №3\u001b[39;00m\n",
      "File \u001b[0;32m~/Documents/workspace/sber-talent-case-contest-2023-krinzhenery-team/solutions/src/solution3.py:83\u001b[0m, in \u001b[0;36mgroup_by_ensemble\u001b[0;34m(filepath)\u001b[0m\n\u001b[1;32m     80\u001b[0m     \u001b[38;5;28;01mcontinue\u001b[39;00m\n\u001b[1;32m     82\u001b[0m \u001b[38;5;66;03m# Подсчет голосов\u001b[39;00m\n\u001b[0;32m---> 83\u001b[0m votes \u001b[38;5;241m=\u001b[39m \u001b[38;5;28msum\u001b[39m([func\u001b[38;5;241m.\u001b[39mvote(df[\u001b[38;5;124m'\u001b[39m\u001b[38;5;124mtext_preprocess\u001b[39m\u001b[38;5;124m'\u001b[39m][i],df[\u001b[38;5;124m'\u001b[39m\u001b[38;5;124mtext_preprocess\u001b[39m\u001b[38;5;124m'\u001b[39m][j]) \u001b[38;5;28;01mfor\u001b[39;00m func \u001b[38;5;129;01min\u001b[39;00m functions])\n\u001b[1;32m     85\u001b[0m \u001b[38;5;28;01mif\u001b[39;00m(votes \u001b[38;5;241m>\u001b[39m \u001b[38;5;241m0\u001b[39m):\n\u001b[1;32m     86\u001b[0m     groups[\u001b[38;5;241m-\u001b[39m\u001b[38;5;241m1\u001b[39m]\u001b[38;5;241m.\u001b[39mappend(df[\u001b[38;5;124m'\u001b[39m\u001b[38;5;124mtext\u001b[39m\u001b[38;5;124m'\u001b[39m][j])\n",
      "File \u001b[0;32m~/Documents/workspace/sber-talent-case-contest-2023-krinzhenery-team/solutions/src/solution3.py:83\u001b[0m, in \u001b[0;36m<listcomp>\u001b[0;34m(.0)\u001b[0m\n\u001b[1;32m     80\u001b[0m     \u001b[38;5;28;01mcontinue\u001b[39;00m\n\u001b[1;32m     82\u001b[0m \u001b[38;5;66;03m# Подсчет голосов\u001b[39;00m\n\u001b[0;32m---> 83\u001b[0m votes \u001b[38;5;241m=\u001b[39m \u001b[38;5;28msum\u001b[39m([\u001b[43mfunc\u001b[49m\u001b[38;5;241;43m.\u001b[39;49m\u001b[43mvote\u001b[49m\u001b[43m(\u001b[49m\u001b[43mdf\u001b[49m\u001b[43m[\u001b[49m\u001b[38;5;124;43m'\u001b[39;49m\u001b[38;5;124;43mtext_preprocess\u001b[39;49m\u001b[38;5;124;43m'\u001b[39;49m\u001b[43m]\u001b[49m\u001b[43m[\u001b[49m\u001b[43mi\u001b[49m\u001b[43m]\u001b[49m\u001b[43m,\u001b[49m\u001b[43mdf\u001b[49m\u001b[43m[\u001b[49m\u001b[38;5;124;43m'\u001b[39;49m\u001b[38;5;124;43mtext_preprocess\u001b[39;49m\u001b[38;5;124;43m'\u001b[39;49m\u001b[43m]\u001b[49m\u001b[43m[\u001b[49m\u001b[43mj\u001b[49m\u001b[43m]\u001b[49m\u001b[43m)\u001b[49m \u001b[38;5;28;01mfor\u001b[39;00m func \u001b[38;5;129;01min\u001b[39;00m functions])\n\u001b[1;32m     85\u001b[0m \u001b[38;5;28;01mif\u001b[39;00m(votes \u001b[38;5;241m>\u001b[39m \u001b[38;5;241m0\u001b[39m):\n\u001b[1;32m     86\u001b[0m     groups[\u001b[38;5;241m-\u001b[39m\u001b[38;5;241m1\u001b[39m]\u001b[38;5;241m.\u001b[39mappend(df[\u001b[38;5;124m'\u001b[39m\u001b[38;5;124mtext\u001b[39m\u001b[38;5;124m'\u001b[39m][j])\n",
      "File \u001b[0;32m~/Documents/workspace/sber-talent-case-contest-2023-krinzhenery-team/solutions/src/Function.py:17\u001b[0m, in \u001b[0;36mFunction.vote\u001b[0;34m(self, left, right)\u001b[0m\n\u001b[1;32m     15\u001b[0m         \u001b[38;5;28;01mreturn\u001b[39;00m \u001b[38;5;241m-\u001b[39m\u001b[38;5;28mself\u001b[39m\u001b[38;5;241m.\u001b[39mweight\n\u001b[1;32m     16\u001b[0m \u001b[38;5;28;01melse\u001b[39;00m:\n\u001b[0;32m---> 17\u001b[0m     \u001b[38;5;28;01mif\u001b[39;00m \u001b[38;5;28;43mself\u001b[39;49m\u001b[38;5;241;43m.\u001b[39;49m\u001b[43mfunction\u001b[49m\u001b[43m(\u001b[49m\u001b[43mleft\u001b[49m\u001b[43m,\u001b[49m\u001b[43mright\u001b[49m\u001b[43m,\u001b[49m\u001b[38;5;28;43mself\u001b[39;49m\u001b[38;5;241;43m.\u001b[39;49m\u001b[43mthreshold\u001b[49m\u001b[43m)\u001b[49m:\n\u001b[1;32m     18\u001b[0m         \u001b[38;5;28;01mreturn\u001b[39;00m \u001b[38;5;28mself\u001b[39m\u001b[38;5;241m.\u001b[39mweight\n\u001b[1;32m     19\u001b[0m     \u001b[38;5;28;01melse\u001b[39;00m:\n",
      "File \u001b[0;32m~/Documents/workspace/sber-talent-case-contest-2023-krinzhenery-team/solutions/src/distance_L2.py:13\u001b[0m, in \u001b[0;36mis_rewrite_distance_L2\u001b[0;34m(left, right, threshold)\u001b[0m\n\u001b[1;32m     12\u001b[0m \u001b[38;5;28;01mdef\u001b[39;00m \u001b[38;5;21mis_rewrite_distance_L2\u001b[39m(left:\u001b[38;5;28mstr\u001b[39m, right:\u001b[38;5;28mstr\u001b[39m, threshold:\u001b[38;5;28mfloat\u001b[39m)\u001b[38;5;241m-\u001b[39m\u001b[38;5;241m>\u001b[39m\u001b[38;5;28mbool\u001b[39m:\n\u001b[0;32m---> 13\u001b[0m     \u001b[38;5;28;01mreturn\u001b[39;00m \u001b[43mdistance_L2\u001b[49m\u001b[43m(\u001b[49m\u001b[43mleft\u001b[49m\u001b[43m,\u001b[49m\u001b[43mright\u001b[49m\u001b[43m)\u001b[49m \u001b[38;5;241m>\u001b[39m threshold\n",
      "File \u001b[0;32m~/Documents/workspace/sber-talent-case-contest-2023-krinzhenery-team/solutions/src/distance_L2.py:6\u001b[0m, in \u001b[0;36mdistance_L2\u001b[0;34m(left, right)\u001b[0m\n\u001b[1;32m      5\u001b[0m \u001b[38;5;28;01mdef\u001b[39;00m \u001b[38;5;21mdistance_L2\u001b[39m(left:\u001b[38;5;28mstr\u001b[39m, right:\u001b[38;5;28mstr\u001b[39m)\u001b[38;5;241m-\u001b[39m\u001b[38;5;241m>\u001b[39m\u001b[38;5;28mfloat\u001b[39m:\n\u001b[0;32m----> 6\u001b[0m     vec \u001b[38;5;241m=\u001b[39m \u001b[43mcountVectorize\u001b[49m\u001b[43m(\u001b[49m\u001b[43mleft\u001b[49m\u001b[43m,\u001b[49m\u001b[43mright\u001b[49m\u001b[43m)\u001b[49m\n\u001b[1;32m      7\u001b[0m     distance \u001b[38;5;241m=\u001b[39m \u001b[38;5;241m0\u001b[39m\n\u001b[1;32m      8\u001b[0m     \u001b[38;5;28;01mfor\u001b[39;00m i \u001b[38;5;129;01min\u001b[39;00m \u001b[38;5;28mrange\u001b[39m(\u001b[38;5;28mlen\u001b[39m(vec[\u001b[38;5;241m0\u001b[39m])):\n",
      "File \u001b[0;32m~/Documents/workspace/sber-talent-case-contest-2023-krinzhenery-team/solutions/src/countVectorizer.py:6\u001b[0m, in \u001b[0;36mcountVectorize\u001b[0;34m(left, right)\u001b[0m\n\u001b[1;32m      4\u001b[0m \u001b[38;5;28;01mdef\u001b[39;00m \u001b[38;5;21mcountVectorize\u001b[39m(left,right):\n\u001b[1;32m      5\u001b[0m     countVectorizer \u001b[38;5;241m=\u001b[39m CountVectorizer()\n\u001b[0;32m----> 6\u001b[0m     countVector \u001b[38;5;241m=\u001b[39m \u001b[43mcountVectorizer\u001b[49m\u001b[38;5;241;43m.\u001b[39;49m\u001b[43mfit_transform\u001b[49m\u001b[43m(\u001b[49m\u001b[43m[\u001b[49m\u001b[43mleft\u001b[49m\u001b[43m,\u001b[49m\u001b[43mright\u001b[49m\u001b[43m]\u001b[49m\u001b[43m)\u001b[49m\n\u001b[1;32m      7\u001b[0m     \u001b[38;5;28;01mreturn\u001b[39;00m countVector\u001b[38;5;241m.\u001b[39mtoarray()\n",
      "File \u001b[0;32m~/.local/lib/python3.8/site-packages/sklearn/base.py:1151\u001b[0m, in \u001b[0;36m_fit_context.<locals>.decorator.<locals>.wrapper\u001b[0;34m(estimator, *args, **kwargs)\u001b[0m\n\u001b[1;32m   1144\u001b[0m     estimator\u001b[38;5;241m.\u001b[39m_validate_params()\n\u001b[1;32m   1146\u001b[0m \u001b[38;5;28;01mwith\u001b[39;00m config_context(\n\u001b[1;32m   1147\u001b[0m     skip_parameter_validation\u001b[38;5;241m=\u001b[39m(\n\u001b[1;32m   1148\u001b[0m         prefer_skip_nested_validation \u001b[38;5;129;01mor\u001b[39;00m global_skip_validation\n\u001b[1;32m   1149\u001b[0m     )\n\u001b[1;32m   1150\u001b[0m ):\n\u001b[0;32m-> 1151\u001b[0m     \u001b[38;5;28;01mreturn\u001b[39;00m \u001b[43mfit_method\u001b[49m\u001b[43m(\u001b[49m\u001b[43mestimator\u001b[49m\u001b[43m,\u001b[49m\u001b[43m \u001b[49m\u001b[38;5;241;43m*\u001b[39;49m\u001b[43margs\u001b[49m\u001b[43m,\u001b[49m\u001b[43m \u001b[49m\u001b[38;5;241;43m*\u001b[39;49m\u001b[38;5;241;43m*\u001b[39;49m\u001b[43mkwargs\u001b[49m\u001b[43m)\u001b[49m\n",
      "File \u001b[0;32m~/.local/lib/python3.8/site-packages/sklearn/feature_extraction/text.py:1383\u001b[0m, in \u001b[0;36mCountVectorizer.fit_transform\u001b[0;34m(self, raw_documents, y)\u001b[0m\n\u001b[1;32m   1375\u001b[0m             warnings\u001b[38;5;241m.\u001b[39mwarn(\n\u001b[1;32m   1376\u001b[0m                 \u001b[38;5;124m\"\u001b[39m\u001b[38;5;124mUpper case characters found in\u001b[39m\u001b[38;5;124m\"\u001b[39m\n\u001b[1;32m   1377\u001b[0m                 \u001b[38;5;124m\"\u001b[39m\u001b[38;5;124m vocabulary while \u001b[39m\u001b[38;5;124m'\u001b[39m\u001b[38;5;124mlowercase\u001b[39m\u001b[38;5;124m'\u001b[39m\u001b[38;5;124m\"\u001b[39m\n\u001b[1;32m   1378\u001b[0m                 \u001b[38;5;124m\"\u001b[39m\u001b[38;5;124m is True. These entries will not\u001b[39m\u001b[38;5;124m\"\u001b[39m\n\u001b[1;32m   1379\u001b[0m                 \u001b[38;5;124m\"\u001b[39m\u001b[38;5;124m be matched with any documents\u001b[39m\u001b[38;5;124m\"\u001b[39m\n\u001b[1;32m   1380\u001b[0m             )\n\u001b[1;32m   1381\u001b[0m             \u001b[38;5;28;01mbreak\u001b[39;00m\n\u001b[0;32m-> 1383\u001b[0m vocabulary, X \u001b[38;5;241m=\u001b[39m \u001b[38;5;28;43mself\u001b[39;49m\u001b[38;5;241;43m.\u001b[39;49m\u001b[43m_count_vocab\u001b[49m\u001b[43m(\u001b[49m\u001b[43mraw_documents\u001b[49m\u001b[43m,\u001b[49m\u001b[43m \u001b[49m\u001b[38;5;28;43mself\u001b[39;49m\u001b[38;5;241;43m.\u001b[39;49m\u001b[43mfixed_vocabulary_\u001b[49m\u001b[43m)\u001b[49m\n\u001b[1;32m   1385\u001b[0m \u001b[38;5;28;01mif\u001b[39;00m \u001b[38;5;28mself\u001b[39m\u001b[38;5;241m.\u001b[39mbinary:\n\u001b[1;32m   1386\u001b[0m     X\u001b[38;5;241m.\u001b[39mdata\u001b[38;5;241m.\u001b[39mfill(\u001b[38;5;241m1\u001b[39m)\n",
      "File \u001b[0;32m~/.local/lib/python3.8/site-packages/sklearn/feature_extraction/text.py:1310\u001b[0m, in \u001b[0;36mCountVectorizer._count_vocab\u001b[0;34m(self, raw_documents, fixed_vocab)\u001b[0m\n\u001b[1;32m   1307\u001b[0m indptr \u001b[38;5;241m=\u001b[39m np\u001b[38;5;241m.\u001b[39masarray(indptr, dtype\u001b[38;5;241m=\u001b[39mindices_dtype)\n\u001b[1;32m   1308\u001b[0m values \u001b[38;5;241m=\u001b[39m np\u001b[38;5;241m.\u001b[39mfrombuffer(values, dtype\u001b[38;5;241m=\u001b[39mnp\u001b[38;5;241m.\u001b[39mintc)\n\u001b[0;32m-> 1310\u001b[0m X \u001b[38;5;241m=\u001b[39m \u001b[43msp\u001b[49m\u001b[38;5;241;43m.\u001b[39;49m\u001b[43mcsr_matrix\u001b[49m\u001b[43m(\u001b[49m\n\u001b[1;32m   1311\u001b[0m \u001b[43m    \u001b[49m\u001b[43m(\u001b[49m\u001b[43mvalues\u001b[49m\u001b[43m,\u001b[49m\u001b[43m \u001b[49m\u001b[43mj_indices\u001b[49m\u001b[43m,\u001b[49m\u001b[43m \u001b[49m\u001b[43mindptr\u001b[49m\u001b[43m)\u001b[49m\u001b[43m,\u001b[49m\n\u001b[1;32m   1312\u001b[0m \u001b[43m    \u001b[49m\u001b[43mshape\u001b[49m\u001b[38;5;241;43m=\u001b[39;49m\u001b[43m(\u001b[49m\u001b[38;5;28;43mlen\u001b[39;49m\u001b[43m(\u001b[49m\u001b[43mindptr\u001b[49m\u001b[43m)\u001b[49m\u001b[43m \u001b[49m\u001b[38;5;241;43m-\u001b[39;49m\u001b[43m \u001b[49m\u001b[38;5;241;43m1\u001b[39;49m\u001b[43m,\u001b[49m\u001b[43m \u001b[49m\u001b[38;5;28;43mlen\u001b[39;49m\u001b[43m(\u001b[49m\u001b[43mvocabulary\u001b[49m\u001b[43m)\u001b[49m\u001b[43m)\u001b[49m\u001b[43m,\u001b[49m\n\u001b[1;32m   1313\u001b[0m \u001b[43m    \u001b[49m\u001b[43mdtype\u001b[49m\u001b[38;5;241;43m=\u001b[39;49m\u001b[38;5;28;43mself\u001b[39;49m\u001b[38;5;241;43m.\u001b[39;49m\u001b[43mdtype\u001b[49m\u001b[43m,\u001b[49m\n\u001b[1;32m   1314\u001b[0m \u001b[43m\u001b[49m\u001b[43m)\u001b[49m\n\u001b[1;32m   1315\u001b[0m X\u001b[38;5;241m.\u001b[39msort_indices()\n\u001b[1;32m   1316\u001b[0m \u001b[38;5;28;01mreturn\u001b[39;00m vocabulary, X\n",
      "File \u001b[0;32m~/.local/lib/python3.8/site-packages/scipy/sparse/_compressed.py:56\u001b[0m, in \u001b[0;36m_cs_matrix.__init__\u001b[0;34m(self, arg1, shape, dtype, copy)\u001b[0m\n\u001b[1;32m     52\u001b[0m     other \u001b[38;5;241m=\u001b[39m \u001b[38;5;28mself\u001b[39m\u001b[38;5;241m.\u001b[39m\u001b[38;5;18m__class__\u001b[39m(\n\u001b[1;32m     53\u001b[0m         \u001b[38;5;28mself\u001b[39m\u001b[38;5;241m.\u001b[39m_coo_container(arg1, shape\u001b[38;5;241m=\u001b[39mshape, dtype\u001b[38;5;241m=\u001b[39mdtype)\n\u001b[1;32m     54\u001b[0m     )\n\u001b[1;32m     55\u001b[0m     \u001b[38;5;28mself\u001b[39m\u001b[38;5;241m.\u001b[39m_set_self(other)\n\u001b[0;32m---> 56\u001b[0m \u001b[38;5;28;01melif\u001b[39;00m \u001b[38;5;28;43mlen\u001b[39;49m\u001b[43m(\u001b[49m\u001b[43marg1\u001b[49m\u001b[43m)\u001b[49m\u001b[43m \u001b[49m\u001b[38;5;241;43m==\u001b[39;49m\u001b[43m \u001b[49m\u001b[38;5;241;43m3\u001b[39;49m:\n\u001b[1;32m     57\u001b[0m     \u001b[38;5;66;03m# (data, indices, indptr) format\u001b[39;00m\n\u001b[1;32m     58\u001b[0m     (data, indices, indptr) \u001b[38;5;241m=\u001b[39m arg1\n\u001b[1;32m     60\u001b[0m     \u001b[38;5;66;03m# Select index dtype large enough to pass array and\u001b[39;00m\n\u001b[1;32m     61\u001b[0m     \u001b[38;5;66;03m# scalar parameters to sparsetools\u001b[39;00m\n",
      "\u001b[0;31mKeyboardInterrupt\u001b[0m: "
     ]
    }
   ],
   "source": [
    "groups3 = solution3.group_by_ensemble(dataset_path)   # Поиск групп по алгоритму решения №3"
   ]
  },
  {
   "cell_type": "code",
   "execution_count": null,
   "id": "34987c94",
   "metadata": {},
   "outputs": [],
   "source": [
    "groups4 = solution4.group_by_clusterization(dataset_path)   # Поиск групп по алгоритму решения №4"
   ]
  },
  {
   "cell_type": "code",
   "execution_count": null,
   "id": "e96819b5",
   "metadata": {},
   "outputs": [],
   "source": [
    "groups5 = solution5.group_by_frequency_analysis(dataset_path)   # Поиск групп по алгоритму решения №5"
   ]
  },
  {
   "cell_type": "markdown",
   "id": "edf4edd7-24eb-4447-9699-beb3ea8d1a5b",
   "metadata": {},
   "source": [
    "## Полученные группы"
   ]
  },
  {
   "cell_type": "code",
   "execution_count": null,
   "id": "ec26557f-9c89-4c55-994c-885533901be1",
   "metadata": {
    "scrolled": true
   },
   "outputs": [],
   "source": [
    "groups1 ## Решение 1"
   ]
  },
  {
   "cell_type": "code",
   "execution_count": null,
   "id": "f1ebe249-b52d-45d8-8ead-4f2ec3f0d27b",
   "metadata": {},
   "outputs": [],
   "source": [
    "groups2 ## Решение 2"
   ]
  },
  {
   "cell_type": "code",
   "execution_count": null,
   "id": "94154d12",
   "metadata": {},
   "outputs": [],
   "source": [
    "groups3 ## Решение 3"
   ]
  },
  {
   "cell_type": "code",
   "execution_count": null,
   "id": "115506a6",
   "metadata": {},
   "outputs": [],
   "source": [
    "groups4 ## Решение 4"
   ]
  },
  {
   "cell_type": "code",
   "execution_count": null,
   "id": "11d04f16",
   "metadata": {},
   "outputs": [],
   "source": [
    "groups5 ## Решение 5"
   ]
  },
  {
   "cell_type": "markdown",
   "id": "7696eb13-64f5-4765-a18f-602de40dd943",
   "metadata": {},
   "source": [
    "## Сравнение групп по размеру\n",
    "Рассмотрим количество найденных групп размеров 1, 2 и 3."
   ]
  },
  {
   "cell_type": "code",
   "execution_count": null,
   "id": "29f9b175-ad8b-4778-89bb-cea7e67da915",
   "metadata": {},
   "outputs": [],
   "source": [
    "# Функция расчета колличества групп заданного размера в решении\n",
    "def count_of_size(groups, request_size):\n",
    "    return len([group for group in groups if len(group) == request_size])\n",
    "\n",
    "# Функция расчета списка размерностей для решения\n",
    "def count_sizes(groups):\n",
    "    return [len(groups), count_of_size(groups, 1), count_of_size(groups, 2), count_of_size(groups, 3)]\n",
    "\n",
    "# Функция расчета массива размерностей для набора решений\n",
    "def count_sizes_list(groups_list):\n",
    "    result = [count_sizes(groups) for groups in groups_list]\n",
    "    result.append([0, 0, 0, 0]) # Добавляем пустые данные, чтобы легенда не перекрывала данные\n",
    "    result.append([0, 0, 0, 0])\n",
    "    result.append([0, 0, 0, 0])\n",
    "    return result\n",
    "\n",
    "count_data = count_sizes_list([groups1, groups2, groups3, groups4, groups5])\n",
    "\n",
    "df2 = pd.DataFrame(count_data, columns=[\"Всего групп\", \"Группы размера 1\", \"Группы размера 2\", \"Группы размера 3\"], \n",
    "                   index = ['#1', '#2', '#3', '#4', '#5', '', '', ''])\n",
    "df2.plot.bar(rot = 0);"
   ]
  },
  {
   "cell_type": "markdown",
   "id": "1fe746f4-4b37-4a9d-84f7-98419b056be2",
   "metadata": {},
   "source": [
    "Можно увидеть, что решения дали похожие результаты."
   ]
  },
  {
   "cell_type": "markdown",
   "id": "6895931b-2668-4b3b-93f7-173590957524",
   "metadata": {},
   "source": [
    "## Особенности решений\n",
    "* [Решение №1](./Solution1.ipynb): гибкое решение, которое группирует строки, которые очень похожи друг на друга по смыслу и структуре\n",
    "* [Решение №2](./Solution2.ipynb): строгое решение, расчитанное на поиск строк с минимальными отличиями по смыслу и структуре.\n",
    "* [Решение №3](./Solution3.ipynb): универсальное решение, рассчитанное на максимизацию пользы от каждого реализованного алгоритма.\n",
    "* [Решение №4](./Solution4.ipynb): интересное решение, основанное на чисто математическом подходе с векторизацией и кластеризацией данных вне зависимости от семантики строк.\n",
    "* [Решение №5](./Solution5.ipynb): решение, которое лучше всего работает c известными ему словами за счет заготовленного словарного набора."
   ]
  },
  {
   "cell_type": "markdown",
   "id": "bd11f51c-0739-42fb-8c9b-3dbe9e4fab8e",
   "metadata": {},
   "source": [
    "### Вывод\n",
    "В ходе работы было реализовано 5 подхода к решению задачи группировки рерайтов. Каждый разработанный алгоритм хорошо справился с поставленной задачей. На основанни заданного датасета было полученно очень 5 близких друг-другу решений, различающихся только в моментах специализации каждого конкретного подхода."
   ]
  }
 ],
 "metadata": {
  "kernelspec": {
   "display_name": "Python 3 (ipykernel)",
   "language": "python",
   "name": "python3"
  },
  "language_info": {
   "codemirror_mode": {
    "name": "ipython",
    "version": 3
   },
   "file_extension": ".py",
   "mimetype": "text/x-python",
   "name": "python",
   "nbconvert_exporter": "python",
   "pygments_lexer": "ipython3",
   "version": "3.8.10"
  },
  "varInspector": {
   "cols": {
    "lenName": 16,
    "lenType": 16,
    "lenVar": 40
   },
   "kernels_config": {
    "python": {
     "delete_cmd_postfix": "",
     "delete_cmd_prefix": "del ",
     "library": "var_list.py",
     "varRefreshCmd": "print(var_dic_list())"
    },
    "r": {
     "delete_cmd_postfix": ") ",
     "delete_cmd_prefix": "rm(",
     "library": "var_list.r",
     "varRefreshCmd": "cat(var_dic_list()) "
    }
   },
   "types_to_exclude": [
    "module",
    "function",
    "builtin_function_or_method",
    "instance",
    "_Feature"
   ],
   "window_display": false
  }
 },
 "nbformat": 4,
 "nbformat_minor": 5
}
